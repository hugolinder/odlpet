{
 "cells": [
  {
   "cell_type": "code",
   "execution_count": 157,
   "metadata": {},
   "outputs": [],
   "source": [
    "from odlpet import Compression, Scanner\n",
    "import read_mCT_data #in odlpet > util"
   ]
  },
  {
   "cell_type": "code",
   "execution_count": 158,
   "metadata": {},
   "outputs": [
    {
     "name": "stdout",
     "output_type": "stream",
     "text": [
      "3.6.7 | packaged by conda-forge | (default, Nov  6 2019, 16:19:42) \n",
      "[GCC 7.3.0]\n"
     ]
    }
   ],
   "source": [
    "import sys\n",
    "print(sys.version)"
   ]
  },
  {
   "cell_type": "code",
   "execution_count": 175,
   "metadata": {},
   "outputs": [],
   "source": [
    "class my_mct(Scanner):\n",
    "    det_nx_mm = 4\n",
    "    det_ny_mm = 2*10*0.2027\n",
    "    num_rings = 4*13+3 # 1  or (4*13  + 3) # in crystals\n",
    "    #print(ring_size)\n",
    "    det_radius = 427.6\n",
    "    average_depth_of_inter = 9.6\n",
    "    ring_spacing = det_ny_mm\n",
    "    voxel_size_xy = 4.07283 #one side, mm\n",
    "    axial_crystals_per_block = num_rings\n",
    "    trans_crystals_per_block = 13+1\n",
    "    axial_blocks_per_bucket = 1\n",
    "    trans_blocks_per_bucket = 4\n",
    "    ring_size = 12*trans_blocks_per_bucket*trans_crystals_per_block\n",
    "    num_dets_per_ring = ring_size"
   ]
  },
  {
   "cell_type": "code",
   "execution_count": 176,
   "metadata": {},
   "outputs": [],
   "source": [
    "scanner = my_mct()"
   ]
  },
  {
   "cell_type": "code",
   "execution_count": 177,
   "metadata": {},
   "outputs": [],
   "source": [
    "headers = [\"CylinderPET-LM-00-sino-0.s.hdr\", \"CylinderPET-LM-00.hdr\", \"narc.hdr\", \"arc.s.hdr\"]"
   ]
  },
  {
   "cell_type": "code",
   "execution_count": 178,
   "metadata": {},
   "outputs": [],
   "source": [
    "verbose = False\n",
    "if verbose:\n",
    "    for hdr in headers: \n",
    "        with open(hdr, 'r') as file: print(file.read())"
   ]
  },
  {
   "cell_type": "code",
   "execution_count": 179,
   "metadata": {},
   "outputs": [
    {
     "data": {
      "text/plain": [
       "<module 'read_mCT_data' from '/home/mamo/Hugo/read_mCT_data.py'>"
      ]
     },
     "execution_count": 179,
     "metadata": {},
     "output_type": "execute_result"
    }
   ],
   "source": [
    "import importlib\n",
    "importlib.reload(read_mCT_data)"
   ]
  },
  {
   "cell_type": "code",
   "execution_count": 180,
   "metadata": {},
   "outputs": [],
   "source": [
    "def compare(x, y, attributes):\n",
    "    errors = 0\n",
    "    for name in attributes:\n",
    "        if getattr(x, name) != getattr(y, name):\n",
    "            errors = errors + 1\n",
    "    return errors == 0"
   ]
  },
  {
   "cell_type": "code",
   "execution_count": 181,
   "metadata": {},
   "outputs": [
    {
     "name": "stdout",
     "output_type": "stream",
     "text": [
      "automated compression creation successful\n",
      "automated compression creation successful\n",
      "automated compression creation successful\n",
      "automated compression creation successful\n"
     ]
    }
   ],
   "source": [
    "manual_compression = Compression(scanner)\n",
    "names = ['span_num', 'max_num_segments', 'num_of_views', 'num_non_arccor_bins', 'data_arc_corrected'] \n",
    "values = [11, 49, 168, 400, False]\n",
    "for pair in zip(names, values):\n",
    "    setattr(manual_compression, *pair)\n",
    "\n",
    "for k, c in enumerate(automated_compressions):\n",
    "    is_equal = compare(c, manual_compression, names)\n",
    "    if is_equal:\n",
    "        print(\"automated compression creation successful\")\n",
    "    else:\n",
    "        print(\"error, attribute mismatch\")\n",
    "    if k == 2: \n",
    "        manual_compression.data_arc_corrected = True"
   ]
  },
  {
   "cell_type": "code",
   "execution_count": 182,
   "metadata": {},
   "outputs": [
    {
     "name": "stdout",
     "output_type": "stream",
     "text": [
      "domain\n",
      "uniform_discr([   0.    , -354.3362, -354.3362], [ 220.943 ,  358.4091,  358.4091], (109, 175, 175), dtype='float32') \n",
      "\n",
      "range\n",
      "uniform_discr([   0. ,    0. , -427.6], [ 621.    ,    3.1416,  427.6   ], (621, 168, 400), dtype='float32')\n"
     ]
    }
   ],
   "source": [
    "proj = automated_compressions[0].get_projector()\n",
    "print('domain\\n{} \\n\\nrange\\n{}'.format(proj.domain, proj.range)) # for some reason, the image domain is smaller in x, y than Siemens (175 < 200)"
   ]
  },
  {
   "cell_type": "code",
   "execution_count": null,
   "metadata": {},
   "outputs": [],
   "source": []
  },
  {
   "cell_type": "code",
   "execution_count": null,
   "metadata": {},
   "outputs": [],
   "source": []
  }
 ],
 "metadata": {
  "kernelspec": {
   "display_name": "Python 3",
   "language": "python",
   "name": "python3"
  },
  "language_info": {
   "codemirror_mode": {
    "name": "ipython",
    "version": 3
   },
   "file_extension": ".py",
   "mimetype": "text/x-python",
   "name": "python",
   "nbconvert_exporter": "python",
   "pygments_lexer": "ipython3",
   "version": "3.6.7"
  }
 },
 "nbformat": 4,
 "nbformat_minor": 4
}
