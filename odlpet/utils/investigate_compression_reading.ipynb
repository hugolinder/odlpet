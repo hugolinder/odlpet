{
 "cells": [
  {
   "cell_type": "code",
   "execution_count": 70,
   "metadata": {},
   "outputs": [],
   "source": [
    "from odlpet import Compression, Scanner\n",
    "import read_mCT_data #in odlpet > util\n",
    "from odlpet.scanner import scanner"
   ]
  },
  {
   "cell_type": "code",
   "execution_count": 71,
   "metadata": {},
   "outputs": [
    {
     "name": "stdout",
     "output_type": "stream",
     "text": [
      "3.6.7 | packaged by conda-forge | (default, Nov  6 2019, 16:19:42) \n",
      "[GCC 7.3.0]\n"
     ]
    }
   ],
   "source": [
    "import sys\n",
    "print(sys.version)"
   ]
  },
  {
   "cell_type": "code",
   "execution_count": 72,
   "metadata": {},
   "outputs": [],
   "source": [
    "#scanner_ = scanner.mCT() # incompatible model \"ERROR: construct_proj_data_info: max_ring_difference 49 is too large, number of rings is 8\""
   ]
  },
  {
   "cell_type": "code",
   "execution_count": 73,
   "metadata": {},
   "outputs": [],
   "source": [
    "import my_mct\n",
    "scanner_ = my_mct.my_mCT() # an alternative, see Shannon\n",
    "import mct\n",
    "scanner_ = mct.mCT() # see copiemct"
   ]
  },
  {
   "cell_type": "code",
   "execution_count": 74,
   "metadata": {},
   "outputs": [],
   "source": [
    "headers = [\"CylinderPET-LM-00-sino-0.s.hdr\", \"CylinderPET-LM-00.hdr\", \"narc.hdr\", \"arc.s.hdr\"]"
   ]
  },
  {
   "cell_type": "code",
   "execution_count": 75,
   "metadata": {},
   "outputs": [
    {
     "name": "stdout",
     "output_type": "stream",
     "text": [
      "read file text\n",
      "!INTERFILE:=\n",
      "%comment:=Created from listmode data\n",
      "!originating system:=1104\n",
      "%SMS-MI header name space:=sinogram subheader\n",
      "%SMS-MI version number:=3.5\n",
      "\n",
      "!GENERAL DATA:=\n",
      "%listmode header file:=C:\\Users\\petct\\Desktop\\CylinderPET-Converted\\CylinderPET-LM-00\\CylinderPET-LM-00.hdr\n",
      "%listmode data file:=C:\\Users\\petct\\Desktop\\CylinderPET-Converted\\CylinderPET-LM-00\\CylinderPET-LM-00.l\n",
      "!name of data file:=CylinderPET-LM-00-sino-0.s\n",
      "\n",
      "!GENERAL IMAGE DATA:=\n",
      "%study date (yyyy:mm:dd):=2019:01:25\n",
      "%study time (hh:mm:ss GMT+00:00):=14:34:48\n",
      "isotope name:=F-18\n",
      "isotope gamma halflife (sec):=6586.2\n",
      "isotope branching factor:=0.9673\n",
      "radiopharmaceutical:=Fluorodeoxyglucose\n",
      "%tracer injection date (yyyy:mm:dd):=2019:01:25\n",
      "%tracer injection time (hh:mm:ss GMT+00:00):=14:32:06\n",
      "tracer activity at time of injection (Bq):=1e+008\n",
      "relative time of tracer injection (sec):=151370052\n",
      "injected volume (ml):=0.0\n",
      "image data byte order:=LITTLEENDIAN\n",
      "%patient orientation:=HFS\n",
      "!PET data type:=emission\n",
      "data format:=sinogram\n",
      "%compression:=off\n",
      "%compressor version:=1.1\n",
      "number format:=signed integer\n",
      "!number of bytes per pixel:=2\n",
      "number of dimensions:=3\n",
      "matrix axis label[1]:=sinogram projections\n",
      "matrix axis label[2]:=sinogram views\n",
      "matrix axis label[3]:=number of sinograms\n",
      "matrix size[1]:=400\n",
      "matrix size[2]:=168\n",
      "matrix size[3]:=621\n",
      "scale factor (mm/pixel) [1]:=2.005\n",
      "scale factor (degree/pixel) [2]:=1.07143\n",
      "scale factor (mm/pixel) [3]:=2.027\n",
      "horizontal bed translation:=stepped\n",
      "start horizontal bed position (mm):=801.48\n",
      "end horizontal bed position (mm):=801.48\n",
      "start vertical bed position (mm):=99\n",
      "%axial compression:=11\n",
      "%maximum ring difference:=49\n",
      "number of rings:=55\n",
      "%number of TOF time bins:=13\n",
      "%TOF mashing factor:=1\n",
      "%sinogram type:=step and shoot\n",
      "%number of segments:=9\n",
      "%segment table:={109,97,97,75,75,53,53,31,31}\n",
      "%total number of sinograms:=621\n",
      "number of energy windows:=1\n",
      "%energy window lower level (keV) [1]:=435\n",
      "%energy window upper level (keV) [1]:=650\n",
      "gantry tilt angle (degrees):=0.0\n",
      "%coincidence window width (ns):=4.0625\n",
      "number of scan data types:=14\n",
      "scan data type description[1]:=prompts\n",
      "scan data type description[2]:=prompts\n",
      "scan data type description[3]:=prompts\n",
      "scan data type description[4]:=prompts\n",
      "scan data type description[5]:=prompts\n",
      "scan data type description[6]:=prompts\n",
      "scan data type description[7]:=prompts\n",
      "scan data type description[8]:=prompts\n",
      "scan data type description[9]:=prompts\n",
      "scan data type description[10]:=prompts\n",
      "scan data type description[11]:=prompts\n",
      "scan data type description[12]:=prompts\n",
      "scan data type description[13]:=prompts\n",
      "scan data type description[14]:=randoms\n",
      "data offset in bytes[1]:=0\n",
      "data offset in bytes[2]:=83462400\n",
      "data offset in bytes[3]:=166924800\n",
      "data offset in bytes[4]:=250387200\n",
      "data offset in bytes[5]:=333849600\n",
      "data offset in bytes[6]:=417312000\n",
      "data offset in bytes[7]:=500774400\n",
      "data offset in bytes[8]:=584236800\n",
      "data offset in bytes[9]:=667699200\n",
      "data offset in bytes[10]:=751161600\n",
      "data offset in bytes[11]:=834624000\n",
      "data offset in bytes[12]:=918086400\n",
      "data offset in bytes[13]:=1001548800\n",
      "data offset in bytes[14]:=1085011200\n",
      "\n",
      "!IMAGE DATA DESCRIPTION:=\n",
      "!total number of data sets:=1\n",
      "total prompts:=14688186\n",
      "%total randoms:=2116091\n",
      "%total net trues:=12572095\n",
      "total prompts events[1]:=3804600\n",
      "total prompts events[2]:=2915905\n",
      "total prompts events[3]:=3208619\n",
      "total prompts events[4]:=1299477\n",
      "total prompts events[5]:=1626563\n",
      "total prompts events[6]:=354702\n",
      "total prompts events[7]:=466835\n",
      "total prompts events[8]:=174619\n",
      "total prompts events[9]:=185693\n",
      "total prompts events[10]:=163084\n",
      "total prompts events[11]:=163621\n",
      "total prompts events[12]:=162067\n",
      "total prompts events[13]:=162401\n",
      "%total net trues events[1]:=3641824\n",
      "%total net trues events[2]:=2753129\n",
      "%total net trues events[3]:=3045843\n",
      "%total net trues events[4]:=1136701\n",
      "%total net trues events[5]:=1463787\n",
      "%total net trues events[6]:=191926\n",
      "%total net trues events[7]:=304059\n",
      "%total net trues events[8]:=11843\n",
      "%total net trues events[9]:=22917\n",
      "%total net trues events[10]:=308\n",
      "%total net trues events[11]:=845\n",
      "%total net trues events[12]:=0\n",
      "%total net trues events[13]:=0\n",
      "!image duration (sec):=60\n",
      "!image relative start time (sec):=0.0\n",
      "%image duration from timing tags (msec):=60014\n",
      "%GIM loss fraction:=1\n",
      "%PDR loss fraction:=1\n",
      "\n",
      "%DETECTOR BLOCK SINGLES:=\n",
      "%number of buckets:=48\n",
      "%total uncorrected singles rate:=5488155\n",
      "%bucket singles rate[1]:=110889\n",
      "%bucket singles rate[2]:=111781\n",
      "%bucket singles rate[3]:=110750\n",
      "%bucket singles rate[4]:=111257\n",
      "%bucket singles rate[5]:=110719\n",
      "%bucket singles rate[6]:=110664\n",
      "%bucket singles rate[7]:=110421\n",
      "%bucket singles rate[8]:=110297\n",
      "%bucket singles rate[9]:=110514\n",
      "%bucket singles rate[10]:=110624\n",
      "%bucket singles rate[11]:=111562\n",
      "%bucket singles rate[12]:=111131\n",
      "%bucket singles rate[13]:=116396\n",
      "%bucket singles rate[14]:=116335\n",
      "%bucket singles rate[15]:=116537\n",
      "%bucket singles rate[16]:=116413\n",
      "%bucket singles rate[17]:=115874\n",
      "%bucket singles rate[18]:=115944\n",
      "%bucket singles rate[19]:=115420\n",
      "%bucket singles rate[20]:=115921\n",
      "%bucket singles rate[21]:=115069\n",
      "%bucket singles rate[22]:=115302\n",
      "%bucket singles rate[23]:=115941\n",
      "%bucket singles rate[24]:=116105\n",
      "%bucket singles rate[25]:=117113\n",
      "%bucket singles rate[26]:=117003\n",
      "%bucket singles rate[27]:=117454\n",
      "%bucket singles rate[28]:=117493\n",
      "%bucket singles rate[29]:=117177\n",
      "%bucket singles rate[30]:=116922\n",
      "%bucket singles rate[31]:=116401\n",
      "%bucket singles rate[32]:=116595\n",
      "%bucket singles rate[33]:=116480\n",
      "%bucket singles rate[34]:=116731\n",
      "%bucket singles rate[35]:=116568\n",
      "%bucket singles rate[36]:=116722\n",
      "%bucket singles rate[37]:=113467\n",
      "%bucket singles rate[38]:=113755\n",
      "%bucket singles rate[39]:=113908\n",
      "%bucket singles rate[40]:=114067\n",
      "%bucket singles rate[41]:=114231\n",
      "%bucket singles rate[42]:=113771\n",
      "%bucket singles rate[43]:=113990\n",
      "%bucket singles rate[44]:=113637\n",
      "%bucket singles rate[45]:=113277\n",
      "%bucket singles rate[46]:=112626\n",
      "%bucket singles rate[47]:=113585\n",
      "%bucket singles rate[48]:=113316\n",
      "\n",
      "construct compression object\n",
      "verbose description of steps enabled with verbose = True\n",
      "parse header file at path\n",
      "determine if listmode or sinogram\n",
      "assume data is sinogram, based on SMS-MI header name space:=sinogram subheader\n",
      "check 'header path CylinderPET-LM-00-sino-0.s.hdr ends with .s.hdr' = True\n",
      "create scanner default compression\n",
      "create list of target odlpet compression attributes to update\n",
      "compression attributes ['span_num', 'max_num_segments', 'num_of_views', 'num_non_arccor_bins', 'data_arc_corrected'] \n",
      ", corresponds to ['axial compression', 'maximum ring difference', 'number of views', 'number of projections', 'applied corrections']\n",
      ", in header\n",
      "show target initial attributes (name, value) \n",
      " = [('span_num', 1), ('max_num_segments', None), ('num_of_views', 312), ('num_non_arccor_bins', 312), ('data_arc_corrected', False)]\n",
      "search for corresponding compression parameters in hdr and update\n",
      "interpret attribute span_num as axial compression\n",
      "interpret attribute max_num_segments as maximum ring difference\n",
      "extract lists for matrix\n",
      "('matrix axis label', ['sinogram projections', 'sinogram views', 'number of sinograms'])\n",
      "('matrix size', [400, 168, 621])\n",
      "interpret attribute num_of_views as matrix size [sinogram views]\n",
      "'matrix axis label[2]:=sinogram views' indicates matrix size[2]\n",
      "interpret attribute num_non_arccor_bins as matrix size [sinogram projections]\n",
      "'matrix axis label[1]:=sinogram projections' indicates matrix size[1]\n",
      "interpret attribute data_arc_corrected as 'is radial arc-correction one of the applied corrections'\n",
      "no corrections\n",
      "show target updated attributes (name, value) \n",
      " = [('span_num', 11), ('max_num_segments', 49), ('num_of_views', 168), ('num_non_arccor_bins', 400), ('data_arc_corrected', False)]\n",
      "return\n",
      "disable verbose\n"
     ]
    }
   ],
   "source": [
    "verbose = True\n",
    "automated_compressions = []\n",
    "for k, hdr in enumerate(headers):\n",
    "    if verbose:\n",
    "        print(\"read file text\")\n",
    "        with open(hdr, 'r') as file: \n",
    "            print(file.read())\n",
    "        print(\"construct compression object\")\n",
    "    automated_compressions.append(read_mCT_data.compression_from_hdr(scanner_, hdr, compression_obj = None, verbose = verbose))\n",
    "    if verbose:\n",
    "        print(\"disable verbose\")\n",
    "        verbose = False "
   ]
  },
  {
   "cell_type": "code",
   "execution_count": 76,
   "metadata": {},
   "outputs": [
    {
     "data": {
      "text/plain": [
       "<module 'read_mCT_data' from '/home/mamo/Hugo/read_mCT_data.py'>"
      ]
     },
     "execution_count": 76,
     "metadata": {},
     "output_type": "execute_result"
    }
   ],
   "source": [
    "import importlib\n",
    "importlib.reload(read_mCT_data)"
   ]
  },
  {
   "cell_type": "code",
   "execution_count": 77,
   "metadata": {},
   "outputs": [],
   "source": [
    "def compare(x, y, attributes):\n",
    "    errors = 0\n",
    "    for name in attributes:\n",
    "        if getattr(x, name) != getattr(y, name):\n",
    "            errors = errors + 1\n",
    "    return errors == 0"
   ]
  },
  {
   "cell_type": "code",
   "execution_count": 78,
   "metadata": {},
   "outputs": [
    {
     "name": "stdout",
     "output_type": "stream",
     "text": [
      "success, automated compression matches manual compression \n",
      "success, automated compression matches manual compression \n",
      "success, automated compression matches manual compression \n",
      "success, automated compression matches manual compression \n"
     ]
    }
   ],
   "source": [
    "manual_compression = Compression(scanner_)\n",
    "names = ['span_num', 'max_num_segments', 'num_of_views', 'num_non_arccor_bins', 'data_arc_corrected'] \n",
    "values = [11, 49, 168, 400, False]\n",
    "for pair in zip(names, values):\n",
    "    setattr(manual_compression, *pair)\n",
    "\n",
    "for k, c in enumerate(automated_compressions):\n",
    "    is_equal = compare(c, manual_compression, names)\n",
    "    if is_equal:\n",
    "        print(\"success, automated compression matches manual compression \")\n",
    "    else:\n",
    "        print(\"error, attribute mismatch\")\n",
    "    if k == 2: \n",
    "        manual_compression.data_arc_corrected = True"
   ]
  },
  {
   "cell_type": "code",
   "execution_count": 80,
   "metadata": {},
   "outputs": [
    {
     "name": "stdout",
     "output_type": "stream",
     "text": [
      "domain\n",
      "uniform_discr([   0., -364., -364.], [ 226.72,  368.  ,  368.  ], (109, 183, 183), dtype='float32') \n",
      "\n",
      "range\n",
      "uniform_discr([   0.,    0., -421.], [ 621.    ,    3.1416,  421.    ], (621, 168, 400), dtype='float32')\n"
     ]
    }
   ],
   "source": [
    "proj = automated_compressions[0].get_projector()\n",
    "print('domain\\n{} \\n\\nrange\\n{}'.format(proj.domain, proj.range)) # for some reason, the image domain is smaller than Siemens, which has size (109, 200, 200)"
   ]
  }
 ],
 "metadata": {
  "kernelspec": {
   "display_name": "Python 3",
   "language": "python",
   "name": "python3"
  },
  "language_info": {
   "codemirror_mode": {
    "name": "ipython",
    "version": 3
   },
   "file_extension": ".py",
   "mimetype": "text/x-python",
   "name": "python",
   "nbconvert_exporter": "python",
   "pygments_lexer": "ipython3",
   "version": "3.6.7"
  }
 },
 "nbformat": 4,
 "nbformat_minor": 4
}
