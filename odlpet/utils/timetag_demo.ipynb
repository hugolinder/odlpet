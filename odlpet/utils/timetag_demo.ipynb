{
 "cells": [
  {
   "cell_type": "code",
   "execution_count": 1,
   "metadata": {},
   "outputs": [],
   "source": [
    "# This notebook demonstrates how petlink32 can be used to split data in time"
   ]
  },
  {
   "cell_type": "code",
   "execution_count": 2,
   "metadata": {},
   "outputs": [],
   "source": [
    "import petlink32\n",
    "import os\n",
    "import numpy as np\n",
    "import matplotlib.pyplot as plt"
   ]
  },
  {
   "cell_type": "code",
   "execution_count": 3,
   "metadata": {},
   "outputs": [
    {
     "name": "stdout",
     "output_type": "stream",
     "text": [
      "file name 0 = KanylPET-LM-01-sino-0.s\n",
      "file name 1 = KanylPET-LM-01-sino-0.s.hdr\n",
      "file name 2 = KanylPET-LM-01-sino.mhdr\n",
      "file name 3 = KanylPET-LM-01.hdr\n",
      "file name 4 = KanylPET-LM-01.l\n"
     ]
    }
   ],
   "source": [
    "# get paths\n",
    "phantom_data = r\"C:/Users/petct/Desktop/Hugo/data/kex/phantom_data\"\n",
    "phantom_path = phantom_data + \"/Cylinder/gate01\"\n",
    "phantom_path = phantom_data + \"/kanyl/gate01\" \n",
    "filenames = []\n",
    "with os.scandir(phantom_path) as it:\n",
    "    for entry in it:\n",
    "        if entry.is_file():\n",
    "            print(\"file name {} =\".format(len(filenames)), entry.name)\n",
    "            filenames.append(entry.name)"
   ]
  },
  {
   "cell_type": "code",
   "execution_count": 4,
   "metadata": {},
   "outputs": [
    {
     "name": "stdout",
     "output_type": "stream",
     "text": [
      "Wall time: 72.8 ms\n",
      "Wall time: 228 ms\n"
     ]
    }
   ],
   "source": [
    "listmode_path = \"/\".join([phantom_path, filenames[4]])\n",
    "%time with open(listmode_path, 'rb') as readfile:  listmode_packets = np.fromfile(readfile, dtype = np.uint32)\n",
    "%time is_elapsed_time_markers = petlink32.ELAPSED_TIME_MARKER.compare(listmode_packets) # interpret content "
   ]
  },
  {
   "cell_type": "code",
   "execution_count": 5,
   "metadata": {},
   "outputs": [
    {
     "name": "stdout",
     "output_type": "stream",
     "text": [
      "number of packets =  37394799\n"
     ]
    },
    {
     "data": {
      "text/plain": [
       "Text(0, 0.5, 'is elapsed time marker')"
      ]
     },
     "execution_count": 5,
     "metadata": {},
     "output_type": "execute_result"
    },
    {
     "data": {
      "image/png": "[encoded data removed]",
      "text/plain": [
       "<Figure size 432x288 with 1 Axes>"
      ]
     },
     "metadata": {
      "needs_background": "light"
     },
     "output_type": "display_data"
    }
   ],
   "source": [
    "N = len(listmode_packets)\n",
    "print(\"number of packets = \", N)\n",
    "n = 10*1000\n",
    "packet_number = np.arange(n)\n",
    "plt.scatter(packet_number, is_elapsed_time_markers[:n].astype(int))\n",
    "plt.xlabel('packet number')\n",
    "plt.ylabel('is elapsed time marker')"
   ]
  },
  {
   "cell_type": "code",
   "execution_count": 16,
   "metadata": {},
   "outputs": [
    {
     "name": "stdout",
     "output_type": "stream",
     "text": [
      "Wall time: 227 ms\n",
      "Wall time: 21.9 ms\n",
      "Wall time: 0 ns\n"
     ]
    }
   ],
   "source": [
    "%time time_passed_ms = np.cumsum(is_elapsed_time_markers) # how many ms have passed, per event\n",
    "%time time_markers = listmode_packets[is_elapsed_time_markers]\n",
    "%time time_at_markers = petlink32.TIME_MS.evaluate(time_markers)"
   ]
  },
  {
   "cell_type": "code",
   "execution_count": 34,
   "metadata": {},
   "outputs": [
    {
     "data": {
      "text/plain": [
       "Text(0, 0.5, 'elapsed time [ms]')"
      ]
     },
     "execution_count": 34,
     "metadata": {},
     "output_type": "execute_result"
    },
    {
     "data": {
      "image/png": "[encoded data removed]",
      "text/plain": [
       "<Figure size 432x288 with 1 Axes>"
      ]
     },
     "metadata": {
      "needs_background": "light"
     },
     "output_type": "display_data"
    }
   ],
   "source": [
    "plt.scatter(packet_number, time_passed_ms[:n], marker='.')\n",
    "plt.xlabel('packet number')\n",
    "plt.ylabel('elapsed time [ms]')"
   ]
  },
  {
   "cell_type": "code",
   "execution_count": 35,
   "metadata": {},
   "outputs": [
    {
     "name": "stdout",
     "output_type": "stream",
     "text": [
      "timerange (start, stop) = (0, 60013) [ms]\n",
      "timerange (start, stop) = (0, 60) [s]\n"
     ]
    }
   ],
   "source": [
    "a = time_at_markers[0]\n",
    "b = time_at_markers[-1]\n",
    "print(\"timerange (start, stop) = {} [ms]\".format((a,b)))\n",
    "print(\"timerange (start, stop) = {} [s]\".format((a,b//(1000))))"
   ]
  },
  {
   "cell_type": "code",
   "execution_count": 36,
   "metadata": {},
   "outputs": [
    {
     "name": "stdout",
     "output_type": "stream",
     "text": [
      "Wall time: 18.9 ms\n",
      "Wall time: 140 ms\n"
     ]
    }
   ],
   "source": [
    "%time split_indices = np.nonzero(is_elapsed_time_markers)[0] \n",
    "%time listmode_timeslices = np.split(listmode_packets, split_indices)"
   ]
  },
  {
   "cell_type": "code",
   "execution_count": 37,
   "metadata": {},
   "outputs": [
    {
     "name": "stdout",
     "output_type": "stream",
     "text": [
      "483\n",
      "623\n",
      "627\n",
      "682\n",
      "554\n",
      "670\n",
      "594\n",
      "631\n",
      "618\n",
      "619\n"
     ]
    }
   ],
   "source": [
    "for timeslice in listmode_timeslices[:10]:\n",
    "    print(len(timeslice))"
   ]
  },
  {
   "cell_type": "code",
   "execution_count": null,
   "metadata": {},
   "outputs": [],
   "source": []
  }
 ],
 "metadata": {
  "kernelspec": {
   "display_name": "Python 3",
   "language": "python",
   "name": "python3"
  },
  "language_info": {
   "codemirror_mode": {
    "name": "ipython",
    "version": 3
   },
   "file_extension": ".py",
   "mimetype": "text/x-python",
   "name": "python",
   "nbconvert_exporter": "python",
   "pygments_lexer": "ipython3",
   "version": "3.6.10"
  }
 },
 "nbformat": 4,
 "nbformat_minor": 4
}
