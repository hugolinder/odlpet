{
 "cells": [
  {
   "cell_type": "code",
   "execution_count": 1,
   "metadata": {},
   "outputs": [],
   "source": [
    "import petlink32\n",
    "import numpy as np\n",
    "import time"
   ]
  },
  {
   "cell_type": "code",
   "execution_count": 2,
   "metadata": {},
   "outputs": [],
   "source": [
    "#prints from Siemens walkthrough, a bed position tag\n",
    "ew1 =  0xc40d180c\n",
    "hbp = 0xd180c\n",
    "hbp_se = -190452"
   ]
  },
  {
   "cell_type": "code",
   "execution_count": 3,
   "metadata": {},
   "outputs": [
    {
     "name": "stdout",
     "output_type": "stream",
     "text": [
      "hbp diff = 0\n"
     ]
    }
   ],
   "source": [
    "my_hbp = petlink32.HORIZONTAL_BED_POSITION.evaluate(hbp)\n",
    "print(\"hbp diff = {}\".format(hbp-my_hbp))"
   ]
  },
  {
   "cell_type": "code",
   "execution_count": 4,
   "metadata": {},
   "outputs": [
    {
     "name": "stdout",
     "output_type": "stream",
     "text": [
      "-190452\n",
      "hbp_se diff = 0\n"
     ]
    }
   ],
   "source": [
    "my_hbp_se = petlink32.sign_extend(my_hbp, 20)\n",
    "print(my_hbp_se)\n",
    "diff = hbp_se - my_hbp_se\n",
    "print(\"hbp_se diff = {}\".format(diff))"
   ]
  },
  {
   "cell_type": "code",
   "execution_count": 5,
   "metadata": {},
   "outputs": [
    {
     "name": "stdout",
     "output_type": "stream",
     "text": [
      "[-190452 -190452 -190452]\n"
     ]
    }
   ],
   "source": [
    "print(petlink32.sign_extend(np.array([my_hbp]*3), 20))"
   ]
  },
  {
   "cell_type": "code",
   "execution_count": 6,
   "metadata": {},
   "outputs": [
    {
     "name": "stdout",
     "output_type": "stream",
     "text": [
      "['0: Tag bit ', 'P: Prompt (1 - Prompt; 0 - Delay)', 'B: Bin Address: 0-29']\n",
      "packet(name = PET Bin-Address Event Packet\n",
      "instruction = 0PBB BBBB BBBB BBBB BBBB BBBB BBBB BBBB\n",
      "parts = \n",
      "0: Tag bit \n",
      "(lowbit, highbit) = (31, 31)\n",
      "value = 0 (base 2)\n",
      "mask =  1000 0000 0000 0000 0000 0000 0000 0000\n",
      "---\n",
      "P: Prompt (1 - Prompt; 0 - Delay)\n",
      "(lowbit, highbit) = (30, 30)\n",
      "mask =  0100 0000 0000 0000 0000 0000 0000 0000\n",
      "---\n",
      "B: Bin Address: 0-29\n",
      "(lowbit, highbit) = (0, 29)\n",
      "mask =  0011 1111 1111 1111 1111 1111 1111 1111)\n",
      "packet compare: event = True, tag = False\n",
      "event packet evaluation  [0, 0, 23]\n"
     ]
    }
   ],
   "source": [
    "# packet construction from PETLink document\n",
    "doc_string = [\"PET Bin-Address Event Packet\", \n",
    "              \"0PBB BBBB BBBB BBBB BBBB BBBB BBBB BBBB\",\n",
    "              \"P: Prompt (1 - Prompt; 0 - Delay)\",\n",
    "              \"B: Bin Address: 0-29\"] \n",
    "packet_name = doc_string[0]\n",
    "part_names = [\"0: Tag bit \"] + doc_string[2:]\n",
    "print(part_names)\n",
    "packet_instruction = doc_string[1]\n",
    "packet = petlink32.packet(packet_instruction, packet_name, part_names)\n",
    "print(packet)\n",
    "tag = 1 << 31\n",
    "event = 23 \n",
    "print(\"packet compare: event = {}, tag = {}\".format(packet.compare(event), packet.compare(tag)))\n",
    "print(\"event packet evaluation \", packet.evaluate(event))"
   ]
  },
  {
   "cell_type": "code",
   "execution_count": 10,
   "metadata": {},
   "outputs": [],
   "source": [
    "# the field names are often nicely ordered, a document parser seems difficult however\n",
    "# \"comparable\" parts, with preset values, e.g. 010,  are not named\n",
    "doc_string = \"Position Profile Data (Maintenance)\"\n",
    "doc_string += \"\\n0uuu uHHH BBBB BBBh XXXX XXXX YYYY YYYY \"\n",
    "doc_string += \"\\n0: Tag bit\" # my addition so that each part has a name\n",
    "doc_string += \"\\nu: Undefined (Default: Set to zero.)\"\n",
    "doc_string += \"\\nH: Head number: 0-2 [See 3 H-field bits labelled by \\\"210 \\\" above.]\"\n",
    "doc_string += \"\\nB: Block position: 0-6\"\n",
    "doc_string += \"\\nh: Hit bit (always = 1)\"\n",
    "doc_string += \"\\nX: X position data: 0-7\"\n",
    "doc_string += \"\\nY: Y position data: 0-7\""
   ]
  },
  {
   "cell_type": "code",
   "execution_count": 11,
   "metadata": {},
   "outputs": [
    {
     "name": "stdout",
     "output_type": "stream",
     "text": [
      "Position Profile Data (Maintenance)\n",
      "0uuu uHHH BBBB BBBh XXXX XXXX YYYY YYYY \n",
      "0: Tag bit\n",
      "u: Undefined (Default: Set to zero.)\n",
      "H: Head number: 0-2 [See 3 H-field bits labelled by \"210 \" above.]\n",
      "B: Block position: 0-6\n",
      "h: Hit bit (always = 1)\n",
      "X: X position data: 0-7\n",
      "Y: Y position data: 0-7\n",
      "['Position Profile Data (Maintenance)', '0uuu uHHH BBBB BBBh XXXX XXXX YYYY YYYY ', '0: Tag bit', 'u: Undefined (Default: Set to zero.)', 'H: Head number: 0-2 [See 3 H-field bits labelled by \"210 \" above.]', 'B: Block position: 0-6', 'h: Hit bit (always = 1)', 'X: X position data: 0-7', 'Y: Y position data: 0-7']\n"
     ]
    }
   ],
   "source": [
    "print(doc_string)\n",
    "doc_strings = doc_string.split(\"\\n\")\n",
    "print(doc_strings)\n",
    "packet_name = doc_strings[0]\n",
    "packet_instruction = doc_strings[1]\n",
    "packet_part_names = doc_strings[2:]"
   ]
  },
  {
   "cell_type": "code",
   "execution_count": 12,
   "metadata": {},
   "outputs": [
    {
     "name": "stdout",
     "output_type": "stream",
     "text": [
      "packet(name = Position Profile Data (Maintenance)\n",
      "instruction = 0uuu uHHH BBBB BBBh XXXX XXXX YYYY YYYY \n",
      "parts = \n",
      "0: Tag bit\n",
      "(lowbit, highbit) = (31, 31)\n",
      "value = 0 (base 2)\n",
      "mask =  1000 0000 0000 0000 0000 0000 0000 0000\n",
      "---\n",
      "u: Undefined (Default: Set to zero.)\n",
      "(lowbit, highbit) = (27, 30)\n",
      "mask =  0111 1000 0000 0000 0000 0000 0000 0000\n",
      "---\n",
      "H: Head number: 0-2 [See 3 H-field bits labelled by \"210 \" above.]\n",
      "(lowbit, highbit) = (24, 26)\n",
      "mask =  0000 0111 0000 0000 0000 0000 0000 0000\n",
      "---\n",
      "B: Block position: 0-6\n",
      "(lowbit, highbit) = (17, 23)\n",
      "mask =  0000 0000 1111 1110 0000 0000 0000 0000\n",
      "---\n",
      "h: Hit bit (always = 1)\n",
      "(lowbit, highbit) = (16, 16)\n",
      "mask =  0000 0000 0000 0001 0000 0000 0000 0000\n",
      "---\n",
      "X: X position data: 0-7\n",
      "(lowbit, highbit) = (8, 15)\n",
      "mask =  0000 0000 0000 0000 1111 1111 0000 0000\n",
      "---\n",
      "Y: Y position data: 0-7\n",
      "(lowbit, highbit) = (0, 7)\n",
      "mask =  0000 0000 0000 0000 0000 0000 1111 1111)\n"
     ]
    }
   ],
   "source": [
    "complicated_packet = petlink32.packet(packet_instruction, packet_name, packet_part_names)\n",
    "print(complicated_packet)"
   ]
  },
  {
   "cell_type": "code",
   "execution_count": 13,
   "metadata": {},
   "outputs": [
    {
     "name": "stdout",
     "output_type": "stream",
     "text": [
      "packet(name = Position Profile Data (Maintenance)\n",
      "instruction = 0uuu uHHH BBBB BBBh XXXX XXXX YYYY YYYY \n",
      "parts = \n",
      "0: Tag bit\n",
      "(lowbit, highbit) = (31, 31)\n",
      "value = 0 (base 2)\n",
      "mask =  1000 0000 0000 0000 0000 0000 0000 0000\n",
      "---\n",
      "u: Undefined (Default: Set to zero.)\n",
      "(lowbit, highbit) = (27, 30)\n",
      "mask =  0111 1000 0000 0000 0000 0000 0000 0000\n",
      "---\n",
      "H: Head number: 0-2 [See 3 H-field bits labelled by \"210 \" above.]\n",
      "(lowbit, highbit) = (24, 26)\n",
      "mask =  0000 0111 0000 0000 0000 0000 0000 0000\n",
      "---\n",
      "B: Block position: 0-6\n",
      "(lowbit, highbit) = (17, 23)\n",
      "mask =  0000 0000 1111 1110 0000 0000 0000 0000\n",
      "---\n",
      "h: Hit bit (always = 1)\n",
      "(lowbit, highbit) = (16, 16)\n",
      "mask =  0000 0000 0000 0001 0000 0000 0000 0000\n",
      "---\n",
      "X: X position data: 0-7\n",
      "(lowbit, highbit) = (8, 15)\n",
      "mask =  0000 0000 0000 0000 1111 1111 0000 0000\n",
      "---\n",
      "Y: Y position data: 0-7\n",
      "(lowbit, highbit) = (0, 7)\n",
      "mask =  0000 0000 0000 0000 0000 0000 1111 1111)\n"
     ]
    }
   ],
   "source": [
    "complicated_packet = petlink32.packet(doc_string)\n",
    "print(complicated_packet)"
   ]
  },
  {
   "cell_type": "code",
   "execution_count": null,
   "metadata": {},
   "outputs": [],
   "source": []
  }
 ],
 "metadata": {
  "kernelspec": {
   "display_name": "Python 3",
   "language": "python",
   "name": "python3"
  },
  "language_info": {
   "codemirror_mode": {
    "name": "ipython",
    "version": 3
   },
   "file_extension": ".py",
   "mimetype": "text/x-python",
   "name": "python",
   "nbconvert_exporter": "python",
   "pygments_lexer": "ipython3",
   "version": "3.7.1"
  }
 },
 "nbformat": 4,
 "nbformat_minor": 4
}
