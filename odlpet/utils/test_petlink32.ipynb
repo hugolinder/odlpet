{
 "cells": [
  {
   "cell_type": "code",
   "execution_count": 1,
   "metadata": {},
   "outputs": [],
   "source": [
    "import petlink32\n",
    "import numpy as np\n",
    "import time"
   ]
  },
  {
   "cell_type": "code",
   "execution_count": 2,
   "metadata": {},
   "outputs": [],
   "source": [
    "#prints from Siemens walkthrough, a bed position tag\n",
    "ew1 =  0xc40d180c\n",
    "hbp = 0xd180c\n",
    "hbp_se = -190452"
   ]
  },
  {
   "cell_type": "code",
   "execution_count": 3,
   "metadata": {},
   "outputs": [
    {
     "name": "stdout",
     "output_type": "stream",
     "text": [
      "hbp diff = 0\n"
     ]
    }
   ],
   "source": [
    "my_hbp = petlink32.HORIZONTAL_BED_POSITION.evaluate(hbp)\n",
    "print(\"hbp diff = {}\".format(hbp-my_hbp))"
   ]
  },
  {
   "cell_type": "code",
   "execution_count": 4,
   "metadata": {},
   "outputs": [
    {
     "name": "stdout",
     "output_type": "stream",
     "text": [
      "-190452\n",
      "hbp_se diff = 0\n"
     ]
    }
   ],
   "source": [
    "my_hbp_se = petlink32.sign_extend(my_hbp, 20)\n",
    "print(my_hbp_se)\n",
    "diff = hbp_se - my_hbp_se\n",
    "print(\"hbp_se diff = {}\".format(diff))"
   ]
  },
  {
   "cell_type": "code",
   "execution_count": 5,
   "metadata": {},
   "outputs": [
    {
     "name": "stdout",
     "output_type": "stream",
     "text": [
      "[-190452 -190452 -190452]\n"
     ]
    }
   ],
   "source": [
    "print(petlink32.sign_extend(np.array([my_hbp]*3), 20))"
   ]
  },
  {
   "cell_type": "code",
   "execution_count": 6,
   "metadata": {},
   "outputs": [
    {
     "name": "stdout",
     "output_type": "stream",
     "text": [
      "['0: Tag bit ', 'P: Prompt (1 - Prompt; 0 - Delay)', 'B: Bin Address: 0-29']\n",
      "packet(name = PET Bin-Address Event Packet\n",
      "instruction = 0PBB BBBB BBBB BBBB BBBB BBBB BBBB BBBB\n",
      "parts = \n",
      "0: Tag bit \n",
      "(lowbit, highbit, nbits) = (31, 31, 1)\n",
      "value = 0 (base 2)\n",
      "mask =  1000 0000 0000 0000 0000 0000 0000 0000\n",
      "---\n",
      "P: Prompt (1 - Prompt; 0 - Delay)\n",
      "(lowbit, highbit, nbits) = (30, 30, 1)\n",
      "mask =  0100 0000 0000 0000 0000 0000 0000 0000\n",
      "---\n",
      "B: Bin Address: 0-29\n",
      "(lowbit, highbit, nbits) = (0, 29, 30)\n",
      "mask =  0011 1111 1111 1111 1111 1111 1111 1111\n",
      ")\n",
      "packet compare: event = True, tag = False\n",
      "event packet evaluation  [0, 0, 23]\n"
     ]
    }
   ],
   "source": [
    "# packet construction from PETLink document\n",
    "doc_string = [\"PET Bin-Address Event Packet\", \n",
    "              \"0PBB BBBB BBBB BBBB BBBB BBBB BBBB BBBB\",\n",
    "              \"P: Prompt (1 - Prompt; 0 - Delay)\",\n",
    "              \"B: Bin Address: 0-29\"] \n",
    "packet_name = doc_string[0]\n",
    "part_names = [\"0: Tag bit \"] + doc_string[2:]\n",
    "print(part_names)\n",
    "packet_instruction = doc_string[1]\n",
    "packet = petlink32.packet(packet_instruction, packet_name, part_names)\n",
    "print(packet)\n",
    "tag = 1 << 31\n",
    "event = 23 \n",
    "print(\"packet compare: event = {}, tag = {}\".format(packet.compare(event), packet.compare(tag)))\n",
    "print(\"event packet evaluation \", packet.evaluate(event))"
   ]
  },
  {
   "cell_type": "code",
   "execution_count": 7,
   "metadata": {},
   "outputs": [],
   "source": [
    "# the field names are often nicely ordered, a document parser seems difficult however\n",
    "# \"comparable\" parts, with preset values, e.g. 010,  are not named\n",
    "doc_string = \"Position Profile Data (Maintenance)\"\n",
    "doc_string += \"\\n0uuu uHHH BBBB BBBh XXXX XXXX YYYY YYYY \"\n",
    "doc_string += \"\\n0: Tag bit\" # my addition so that each part has a name\n",
    "doc_string += \"\\nu: Undefined (Default: Set to zero.)\"\n",
    "doc_string += \"\\nH: Head number: 0-2 [See 3 H-field bits labelled by \\\"210 \\\" above.]\"\n",
    "doc_string += \"\\nB: Block position: 0-6\"\n",
    "doc_string += \"\\nh: Hit bit (always = 1)\"\n",
    "doc_string += \"\\nX: X position data: 0-7\"\n",
    "doc_string += \"\\nY: Y position data: 0-7\""
   ]
  },
  {
   "cell_type": "code",
   "execution_count": 8,
   "metadata": {},
   "outputs": [
    {
     "name": "stdout",
     "output_type": "stream",
     "text": [
      "Position Profile Data (Maintenance)\n",
      "0uuu uHHH BBBB BBBh XXXX XXXX YYYY YYYY \n",
      "0: Tag bit\n",
      "u: Undefined (Default: Set to zero.)\n",
      "H: Head number: 0-2 [See 3 H-field bits labelled by \"210 \" above.]\n",
      "B: Block position: 0-6\n",
      "h: Hit bit (always = 1)\n",
      "X: X position data: 0-7\n",
      "Y: Y position data: 0-7\n",
      "['Position Profile Data (Maintenance)', '0uuu uHHH BBBB BBBh XXXX XXXX YYYY YYYY ', '0: Tag bit', 'u: Undefined (Default: Set to zero.)', 'H: Head number: 0-2 [See 3 H-field bits labelled by \"210 \" above.]', 'B: Block position: 0-6', 'h: Hit bit (always = 1)', 'X: X position data: 0-7', 'Y: Y position data: 0-7']\n"
     ]
    }
   ],
   "source": [
    "print(doc_string)\n",
    "doc_strings = doc_string.split(\"\\n\")\n",
    "print(doc_strings)\n",
    "packet_name = doc_strings[0]\n",
    "packet_instruction = doc_strings[1]\n",
    "packet_part_names = doc_strings[2:]"
   ]
  },
  {
   "cell_type": "code",
   "execution_count": 9,
   "metadata": {},
   "outputs": [
    {
     "name": "stdout",
     "output_type": "stream",
     "text": [
      "packet(name = Position Profile Data (Maintenance)\n",
      "instruction = 0uuu uHHH BBBB BBBh XXXX XXXX YYYY YYYY \n",
      "parts = \n",
      "0: Tag bit\n",
      "(lowbit, highbit, nbits) = (31, 31, 1)\n",
      "value = 0 (base 2)\n",
      "mask =  1000 0000 0000 0000 0000 0000 0000 0000\n",
      "---\n",
      "u: Undefined (Default: Set to zero.)\n",
      "(lowbit, highbit, nbits) = (27, 30, 4)\n",
      "mask =  0111 1000 0000 0000 0000 0000 0000 0000\n",
      "---\n",
      "H: Head number: 0-2 [See 3 H-field bits labelled by \"210 \" above.]\n",
      "(lowbit, highbit, nbits) = (24, 26, 3)\n",
      "mask =  0000 0111 0000 0000 0000 0000 0000 0000\n",
      "---\n",
      "B: Block position: 0-6\n",
      "(lowbit, highbit, nbits) = (17, 23, 7)\n",
      "mask =  0000 0000 1111 1110 0000 0000 0000 0000\n",
      "---\n",
      "h: Hit bit (always = 1)\n",
      "(lowbit, highbit, nbits) = (16, 16, 1)\n",
      "mask =  0000 0000 0000 0001 0000 0000 0000 0000\n",
      "---\n",
      "X: X position data: 0-7\n",
      "(lowbit, highbit, nbits) = (8, 15, 8)\n",
      "mask =  0000 0000 0000 0000 1111 1111 0000 0000\n",
      "---\n",
      "Y: Y position data: 0-7\n",
      "(lowbit, highbit, nbits) = (0, 7, 8)\n",
      "mask =  0000 0000 0000 0000 0000 0000 1111 1111\n",
      ")\n"
     ]
    }
   ],
   "source": [
    "complicated_packet = petlink32.packet(packet_instruction, packet_name, packet_part_names)\n",
    "print(complicated_packet)"
   ]
  },
  {
   "cell_type": "code",
   "execution_count": 10,
   "metadata": {},
   "outputs": [
    {
     "name": "stdout",
     "output_type": "stream",
     "text": [
      "packet(name = Position Profile Data (Maintenance)\n",
      "instruction = 0uuu uHHH BBBB BBBh XXXX XXXX YYYY YYYY \n",
      "parts = \n",
      "0: Tag bit\n",
      "(lowbit, highbit, nbits) = (31, 31, 1)\n",
      "value = 0 (base 2)\n",
      "mask =  1000 0000 0000 0000 0000 0000 0000 0000\n",
      "---\n",
      "u: Undefined (Default: Set to zero.)\n",
      "(lowbit, highbit, nbits) = (27, 30, 4)\n",
      "mask =  0111 1000 0000 0000 0000 0000 0000 0000\n",
      "---\n",
      "H: Head number: 0-2 [See 3 H-field bits labelled by \"210 \" above.]\n",
      "(lowbit, highbit, nbits) = (24, 26, 3)\n",
      "mask =  0000 0111 0000 0000 0000 0000 0000 0000\n",
      "---\n",
      "B: Block position: 0-6\n",
      "(lowbit, highbit, nbits) = (17, 23, 7)\n",
      "mask =  0000 0000 1111 1110 0000 0000 0000 0000\n",
      "---\n",
      "h: Hit bit (always = 1)\n",
      "(lowbit, highbit, nbits) = (16, 16, 1)\n",
      "mask =  0000 0000 0000 0001 0000 0000 0000 0000\n",
      "---\n",
      "X: X position data: 0-7\n",
      "(lowbit, highbit, nbits) = (8, 15, 8)\n",
      "mask =  0000 0000 0000 0000 1111 1111 0000 0000\n",
      "---\n",
      "Y: Y position data: 0-7\n",
      "(lowbit, highbit, nbits) = (0, 7, 8)\n",
      "mask =  0000 0000 0000 0000 0000 0000 1111 1111\n",
      ")\n"
     ]
    }
   ],
   "source": [
    "complicated_packet = petlink32.packet(doc_string)\n",
    "print(complicated_packet)"
   ]
  },
  {
   "cell_type": "code",
   "execution_count": 11,
   "metadata": {},
   "outputs": [],
   "source": [
    "doc_string = \"Horizontal Bed Position\"\n",
    "doc_string += \"\\n1100 0100 uuuM HHHH HHHH HHHH HHHH HHHH\"\n",
    "#|19 0| # not use\n",
    "doc_string += \"\\nu: Undefined (Default: Set to zero.)\"\n",
    "\n",
    "doc_string += \"\\nM: Moving. Single Bit. Set to 0 if horizontal bed motion is unchanging. \" #moved up for correct order\n",
    "doc_string += \"Set to 1 if horizontal bed motion is changing. \"\n",
    "doc_string += \"[This bit was requested but implementation may be pending.]\"\n",
    "\n",
    "doc_string += \"\\nH: Horizontal Position: 0-19 [Note: For VG30 on Nov-2010 and later mCT systems, \"\n",
    "doc_string += \"this 20-bit H value is always a 2’s complement number. \"\n",
    "doc_string += \"When H is near zero - e.g. H = -1(dec) or FFFFF(hex), \"\n",
    "doc_string += \"the bed (a. k. a. Patient Handling System or PHS) \"\n",
    "doc_string += \"approaches (or is) fully retracted from the FOV. \"\n",
    "doc_string += \"When H is at its largest negative extent, \"\n",
    "doc_string += \"the bed is fully extended into the FOV. \"\n",
    "doc_string += \"The LSB of H represents 0.001 cm of horizontal bed movement. \"\n",
    "doc_string += \"In recent years, the actual precision reported by \" \n",
    "doc_string += \"the bed has been 0.001cm – i.e. to the LSB limit of the H field. \" \n",
    "doc_string += \"Some earlier versions of the PHS had precision limited to 0.05cm \" \n",
    "doc_string += \"– i.e. incrementing/decrementing the H field by 50 (dec) only.]\" "
   ]
  },
  {
   "cell_type": "code",
   "execution_count": 12,
   "metadata": {},
   "outputs": [
    {
     "name": "stdout",
     "output_type": "stream",
     "text": [
      "Horizontal Bed Position\n",
      "1100 0100 uuuM HHHH HHHH HHHH HHHH HHHH\n",
      "u: Undefined (Default: Set to zero.)\n",
      "M: Moving. Single Bit. Set to 0 if horizontal bed motion is unchanging. Set to 1 if horizontal bed motion is changing. [This bit was requested but implementation may be pending.]\n",
      "H: Horizontal Position: 0-19 [Note: For VG30 on Nov-2010 and later mCT systems, this 20-bit H value is always a 2’s complement number. When H is near zero - e.g. H = -1(dec) or FFFFF(hex), the bed (a. k. a. Patient Handling System or PHS) approaches (or is) fully retracted from the FOV. When H is at its largest negative extent, the bed is fully extended into the FOV. The LSB of H represents 0.001 cm of horizontal bed movement. In recent years, the actual precision reported by the bed has been 0.001cm – i.e. to the LSB limit of the H field. Some earlier versions of the PHS had precision limited to 0.05cm – i.e. incrementing/decrementing the H field by 50 (dec) only.]\n"
     ]
    }
   ],
   "source": [
    "print(doc_string)"
   ]
  },
  {
   "cell_type": "code",
   "execution_count": 13,
   "metadata": {},
   "outputs": [],
   "source": [
    "hbp_packet = petlink32.packet(doc_string, is_twos_complement = [False, False, False, True])"
   ]
  },
  {
   "cell_type": "code",
   "execution_count": 14,
   "metadata": {},
   "outputs": [
    {
     "name": "stdout",
     "output_type": "stream",
     "text": [
      "packet(name = Horizontal Bed Position\n",
      "instruction = 1100 0100 uuuM HHHH HHHH HHHH HHHH HHHH\n",
      "parts = \n",
      "u: Undefined (Default: Set to zero.)\n",
      "(lowbit, highbit, nbits) = (24, 31, 8)\n",
      "value = 11000100 (base 2)\n",
      "mask =  1111 1111 0000 0000 0000 0000 0000 0000\n",
      "---\n",
      "M: Moving. Single Bit. Set to 0 if horizontal bed motion is unchanging. Set to 1 if horizontal bed motion is changing. [This bit was requested but implementation may be pending.]\n",
      "(lowbit, highbit, nbits) = (21, 23, 3)\n",
      "mask =  0000 0000 1110 0000 0000 0000 0000 0000\n",
      "---\n",
      "H: Horizontal Position: 0-19 [Note: For VG30 on Nov-2010 and later mCT systems, this 20-bit H value is always a 2’s complement number. When H is near zero - e.g. H = -1(dec) or FFFFF(hex), the bed (a. k. a. Patient Handling System or PHS) approaches (or is) fully retracted from the FOV. When H is at its largest negative extent, the bed is fully extended into the FOV. The LSB of H represents 0.001 cm of horizontal bed movement. In recent years, the actual precision reported by the bed has been 0.001cm – i.e. to the LSB limit of the H field. Some earlier versions of the PHS had precision limited to 0.05cm – i.e. incrementing/decrementing the H field by 50 (dec) only.]\n",
      "(lowbit, highbit, nbits) = (20, 20, 1)\n",
      "mask =  0000 0000 0001 0000 0000 0000 0000 0000\n",
      "---\n",
      "(lowbit, highbit, nbits) = (0, 19, 20)\n",
      "field is a twos complement number\n",
      "mask =  0000 0000 0000 1111 1111 1111 1111 1111\n",
      ")\n"
     ]
    }
   ],
   "source": [
    "print(hbp_packet)"
   ]
  },
  {
   "cell_type": "code",
   "execution_count": 15,
   "metadata": {},
   "outputs": [
    {
     "name": "stdout",
     "output_type": "stream",
     "text": [
      "[196, 0, 0, -190452]\n"
     ]
    }
   ],
   "source": [
    "print(hbp_packet.evaluate(0xc40d180c))"
   ]
  },
  {
   "cell_type": "code",
   "execution_count": 21,
   "metadata": {},
   "outputs": [
    {
     "name": "stdout",
     "output_type": "stream",
     "text": [
      "section(name = my section\n",
      ", packets = \n",
      "PET Bin-Address Event Packet\n",
      "Horizontal Bed Position )\n",
      "\n",
      "with pages:\n",
      "\n",
      "section(name = my section\n",
      ", packets = \n",
      "PET Bin-Address Event Packet\n",
      "Horizontal Bed Position\n",
      ", pages = lorem ipsum )\n"
     ]
    }
   ],
   "source": [
    "doc_group = petlink32.document_section(name = \"my section\", packets = [packet, hbp_packet])\n",
    "print(doc_group)\n",
    "doc_group.pages = \"lorem ipsum\"\n",
    "print(\"\\nwith pages:\\n\")\n",
    "print(doc_group)"
   ]
  },
  {
   "cell_type": "code",
   "execution_count": null,
   "metadata": {},
   "outputs": [],
   "source": []
  }
 ],
 "metadata": {
  "kernelspec": {
   "display_name": "Python 3",
   "language": "python",
   "name": "python3"
  },
  "language_info": {
   "codemirror_mode": {
    "name": "ipython",
    "version": 3
   },
   "file_extension": ".py",
   "mimetype": "text/x-python",
   "name": "python",
   "nbconvert_exporter": "python",
   "pygments_lexer": "ipython3",
   "version": "3.7.1"
  }
 },
 "nbformat": 4,
 "nbformat_minor": 4
}
