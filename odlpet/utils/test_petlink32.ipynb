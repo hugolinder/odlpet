{
 "cells": [
  {
   "cell_type": "code",
   "execution_count": 1,
   "metadata": {},
   "outputs": [],
   "source": [
    "import petlink32\n",
    "import numpy as np\n",
    "import time"
   ]
  },
  {
   "cell_type": "code",
   "execution_count": 2,
   "metadata": {},
   "outputs": [],
   "source": [
    "#prints from Siemens walkthrough, a bed position tag\n",
    "ew1 =  0xc40d180c\n",
    "hbp = 0xd180c\n",
    "hbp_se = -190452"
   ]
  },
  {
   "cell_type": "code",
   "execution_count": 3,
   "metadata": {},
   "outputs": [
    {
     "name": "stdout",
     "output_type": "stream",
     "text": [
      "hbp diff = 0\n"
     ]
    }
   ],
   "source": [
    "my_hbp = petlink32.HORIZONTAL_BED_POSITION.evaluate(hbp)\n",
    "print(\"hbp diff = {}\".format(hbp-my_hbp))"
   ]
  },
  {
   "cell_type": "code",
   "execution_count": 4,
   "metadata": {},
   "outputs": [
    {
     "name": "stdout",
     "output_type": "stream",
     "text": [
      "-190452\n",
      "hbp_se diff = 0\n"
     ]
    }
   ],
   "source": [
    "my_hbp_se = petlink32.sign_extend(my_hbp, 20)\n",
    "print(my_hbp_se)\n",
    "diff = hbp_se - my_hbp_se\n",
    "print(\"hbp_se diff = {}\".format(diff))"
   ]
  },
  {
   "cell_type": "code",
   "execution_count": 5,
   "metadata": {},
   "outputs": [
    {
     "name": "stdout",
     "output_type": "stream",
     "text": [
      "[-190452 -190452 -190452]\n"
     ]
    }
   ],
   "source": [
    "print(petlink32.sign_extend(np.array([my_hbp]*3), 20))"
   ]
  },
  {
   "cell_type": "code",
   "execution_count": null,
   "metadata": {},
   "outputs": [],
   "source": []
  }
 ],
 "metadata": {
  "kernelspec": {
   "display_name": "Python 3",
   "language": "python",
   "name": "python3"
  },
  "language_info": {
   "codemirror_mode": {
    "name": "ipython",
    "version": 3
   },
   "file_extension": ".py",
   "mimetype": "text/x-python",
   "name": "python",
   "nbconvert_exporter": "python",
   "pygments_lexer": "ipython3",
   "version": "3.7.1"
  }
 },
 "nbformat": 4,
 "nbformat_minor": 4
}
