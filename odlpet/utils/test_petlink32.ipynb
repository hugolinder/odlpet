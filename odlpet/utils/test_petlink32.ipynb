{
 "cells": [
  {
   "cell_type": "code",
   "execution_count": 1,
   "metadata": {},
   "outputs": [],
   "source": [
    "import petlink32\n",
    "import numpy as np\n",
    "import time"
   ]
  },
  {
   "cell_type": "code",
   "execution_count": 2,
   "metadata": {},
   "outputs": [],
   "source": [
    "time_a = time.time()"
   ]
  },
  {
   "cell_type": "code",
   "execution_count": 3,
   "metadata": {},
   "outputs": [
    {
     "name": "stdout",
     "output_type": "stream",
     "text": [
      "('event', packet part\n",
      "low bit = 31\n",
      "high bit = 31\n",
      "value = 0 (base 2)\n",
      "mask = 10000000000000000000000000000000)\n",
      "('prompt', packet part\n",
      "low bit = 30\n",
      "high bit = 30\n",
      "value = 1 (base 2)\n",
      "mask = 1000000000000000000000000000000)\n",
      "('bin address', packet part\n",
      "low bit = 0\n",
      "high bit = 29\n",
      "mask = 111111111111111111111111111111)\n",
      "('timetag', packet part\n",
      "low bit = 30\n",
      "high bit = 31\n",
      "value = 10 (base 2)\n",
      "mask = 11000000000000000000000000000000)\n",
      "('motion', packet part\n",
      "low bit = 29\n",
      "high bit = 31\n",
      "value = 110 (base 2)\n",
      "mask = 11100000000000000000000000000000)\n",
      "('monitoring', packet part\n",
      "low bit = 28\n",
      "high bit = 31\n",
      "value = 1110 (base 2)\n",
      "mask = 11110000000000000000000000000000)\n",
      "('control', packet part\n",
      "low bit = 28\n",
      "high bit = 31\n",
      "value = 1111 (base 2)\n",
      "mask = 11110000000000000000000000000000)\n"
     ]
    }
   ],
   "source": [
    "packets = [petlink32.EVENT, \n",
    "               petlink32.PROMPT, \n",
    "               petlink32.BIN_ADDRESS, \n",
    "               petlink32.TIME_TAG, \n",
    "               petlink32.MOTION_TAG, \n",
    "               petlink32.MONITORING_TAG,\n",
    "               petlink32.CONTROL_TAG]\n",
    "packet_names = [\"event\", \"prompt\", \"bin address\", \"timetag\", \"motion\", \"monitoring\", \"control\"]\n",
    "for pair in zip(packet_names, packets):\n",
    "    print(pair)"
   ]
  },
  {
   "cell_type": "code",
   "execution_count": 4,
   "metadata": {},
   "outputs": [
    {
     "name": "stdout",
     "output_type": "stream",
     "text": [
      "number of packets in data = 16866873\n"
     ]
    }
   ],
   "source": [
    "listmode_path = r\"C:/Users/petct/Desktop/KanylPET-Converted/KanylPET-LM-00/KanylPET-LM-00.l\"\n",
    "listmode_path = r\"C:/Users/petct/Desktop/CylinderPET-Converted/CylinderPET-LM-00/CylinderPET-LM-00.l\"\n",
    "with open(listmode_path, 'rb') as file:\n",
    "    listmode_data = np.fromfile(file, dtype = np.uint32)\n",
    "N = len(listmode_data)\n",
    "print(\"number of packets in data = {}\".format(N))"
   ]
  },
  {
   "cell_type": "code",
   "execution_count": 5,
   "metadata": {},
   "outputs": [
    {
     "name": "stdout",
     "output_type": "stream",
     "text": [
      "event count 16804277\n",
      "prompt count 14688186\n",
      "\n"
     ]
    }
   ],
   "source": [
    "is_event = petlink32.EVENT.compare(listmode_data)\n",
    "event_count = np.sum(is_event)\n",
    "is_prompt = petlink32.PROMPT.compare(listmode_data[is_event])\n",
    "prompt_count = np.sum(is_prompt)\n",
    "print(\"event count {}\\nprompt count {}\\n\".format(event_count, prompt_count))"
   ]
  },
  {
   "cell_type": "code",
   "execution_count": 6,
   "metadata": {},
   "outputs": [
    {
     "name": "stdout",
     "output_type": "stream",
     "text": [
      "counts\n",
      "('timetag', 61441)\n",
      "('motion', 1154)\n",
      "('monitoring', 0)\n",
      "('control', 1)\n"
     ]
    }
   ],
   "source": [
    "is_timetag = petlink32.TIME_TAG.compare(listmode_data)\n",
    "timetag_count = np.sum(is_timetag)\n",
    "is_motion = petlink32.MOTION_TAG.compare(listmode_data)\n",
    "motion_count = np.sum(is_motion)\n",
    "is_monitoring = petlink32.MONITORING_TAG.compare(listmode_data)\n",
    "monitoring_count = np.sum(is_monitoring)\n",
    "is_control = petlink32.CONTROL_TAG.compare(listmode_data)\n",
    "control_count = np.sum(is_control)\n",
    "tag_labels = ['timetag', 'motion', 'monitoring', 'control']\n",
    "tag_counts = [timetag_count, motion_count, monitoring_count, control_count]\n",
    "\n",
    "print(\"counts\")\n",
    "for pair in zip(tag_labels, tag_counts):\n",
    "    print(pair)"
   ]
  },
  {
   "cell_type": "code",
   "execution_count": 7,
   "metadata": {},
   "outputs": [
    {
     "name": "stdout",
     "output_type": "stream",
     "text": [
      "diff counts and length = 0\n"
     ]
    }
   ],
   "source": [
    "part_sum = sum(tag_counts) + event_count\n",
    "print(\"diff counts and length = {}\".format(N-part_sum))"
   ]
  },
  {
   "cell_type": "code",
   "execution_count": 8,
   "metadata": {},
   "outputs": [
    {
     "name": "stdout",
     "output_type": "stream",
     "text": [
      "vertical count = 0\n",
      "horizontal count = 1154\n",
      "motion outliers (not vertical or horizontal) = 0\n"
     ]
    }
   ],
   "source": [
    "#test motion\n",
    "listmode_motion = listmode_data[is_motion]\n",
    "is_horizontal = petlink32.IS_HORIZONTAL_BED.compare(listmode_motion)\n",
    "horizontal_count = np.sum(is_horizontal)\n",
    "is_vertical = petlink32.IS_VERTICAL_BED.compare(listmode_motion)\n",
    "vertical_count = np.sum(is_vertical)\n",
    "motion_diff = motion_count - vertical_count - horizontal_count\n",
    "print(\"vertical count = {}\\nhorizontal count = {}\".format(vertical_count, horizontal_count))\n",
    "print(\"motion outliers (not vertical or horizontal) = {}\".format(motion_diff))"
   ]
  },
  {
   "cell_type": "code",
   "execution_count": 9,
   "metadata": {},
   "outputs": [
    {
     "name": "stdout",
     "output_type": "stream",
     "text": [
      "elapsed time = 0.893608808517456\n"
     ]
    }
   ],
   "source": [
    "time_b = time.time()\n",
    "print(\"elapsed time = {}\".format(time_b-time_a))"
   ]
  },
  {
   "cell_type": "code",
   "execution_count": null,
   "metadata": {},
   "outputs": [],
   "source": []
  },
  {
   "cell_type": "code",
   "execution_count": 10,
   "metadata": {},
   "outputs": [],
   "source": [
    "import matplotlib.pyplot as plt"
   ]
  },
  {
   "cell_type": "code",
   "execution_count": 11,
   "metadata": {},
   "outputs": [],
   "source": [
    "def twos_complement(input_value, num_bits):\n",
    "    \"\"\"Calculates a two's complement integer from the given input value's bits.\"\"\"\n",
    "    mask = 2 ** (num_bits - 1)\n",
    "    return -(input_value & mask) + (input_value & ~mask)"
   ]
  },
  {
   "cell_type": "code",
   "execution_count": 12,
   "metadata": {},
   "outputs": [],
   "source": [
    "listmode_horizontal = listmode_motion[is_horizontal]\n",
    "raw_horizontal_values = petlink32.HORIZONTAL_BED_POSITION.evaluate(listmode_horizontal)\n",
    "horizontal_values = twos_complement(raw_horizontal_values, num_bits=19+1)"
   ]
  },
  {
   "cell_type": "code",
   "execution_count": 13,
   "metadata": {},
   "outputs": [
    {
     "data": {
      "text/plain": [
       "[<matplotlib.lines.Line2D at 0x191ec5802e8>]"
      ]
     },
     "execution_count": 13,
     "metadata": {},
     "output_type": "execute_result"
    },
    {
     "data": {
      "image/png": "[encoded data removed]",
      "text/plain": [
       "<Figure size 432x288 with 1 Axes>"
      ]
     },
     "metadata": {
      "needs_background": "light"
     },
     "output_type": "display_data"
    }
   ],
   "source": [
    "plt.plot(horizontal_values)"
   ]
  },
  {
   "cell_type": "code",
   "execution_count": 14,
   "metadata": {},
   "outputs": [
    {
     "data": {
      "text/plain": [
       "[<matplotlib.lines.Line2D at 0x191f7ae4198>]"
      ]
     },
     "execution_count": 14,
     "metadata": {},
     "output_type": "execute_result"
    },
    {
     "data": {
      "image/png": "[encoded data removed]",
      "text/plain": [
       "<Figure size 432x288 with 1 Axes>"
      ]
     },
     "metadata": {
      "needs_background": "light"
     },
     "output_type": "display_data"
    }
   ],
   "source": [
    "plt.plot(raw_horizontal_values[:100]/(100*1000))"
   ]
  },
  {
   "cell_type": "code",
   "execution_count": 15,
   "metadata": {},
   "outputs": [
    {
     "name": "stdout",
     "output_type": "stream",
     "text": [
      "[933972 933972 933972 933972 933972 933972 933972 933972 933972 933972\n",
      " 933972 933972 933972 933972 933972 933972 933972 933972 933972 933972\n",
      " 933972 933972 933972 933972 933972 933972 933972 933972 933972 933972\n",
      " 933972 933972 933972 933972 933972 933972 933972 933972 933972 933972\n",
      " 933972 933972 933972 933972 933972 933972 933972 933972 933972 933972\n",
      " 933972 933972 933972 933972 933972 933972 933972 933972 933972 933972\n",
      " 933972 933972 933972 933972 933972 933972 933972 933972 933972 933972\n",
      " 933972 933972 933972 933972 933972 933972 933972 933972 933972 933972\n",
      " 933972 933972 933972 933972 933972 933972 933972 933972 933972 933972\n",
      " 933972 933972 933972 933972 933972 933972 933972 933972 933972 933972]\n"
     ]
    }
   ],
   "source": [
    "print(raw_horizontal_values[:100])"
   ]
  },
  {
   "cell_type": "code",
   "execution_count": 16,
   "metadata": {},
   "outputs": [
    {
     "name": "stdout",
     "output_type": "stream",
     "text": [
      "[114604 114604 114604 114604 114604 114604 114604 114604 114604 114604\n",
      " 114604 114604 114604 114604 114604 114604 114604 114604 114604 114604\n",
      " 114604 114604 114604 114604 114604 114604 114604 114604 114604 114604\n",
      " 114604 114604 114604 114604 114604 114604 114604 114604 114604 114604\n",
      " 114604 114604 114604 114604 114604 114604 114604 114604 114604 114604\n",
      " 114604 114604 114604 114604 114604 114604 114604 114604 114604 114604\n",
      " 114604 114604 114604 114604 114604 114604 114604 114604 114604 114604\n",
      " 114604 114604 114604 114604 114604 114604 114604 114604 114604 114604\n",
      " 114604 114604 114604 114604 114604 114604 114604 114604 114604 114604\n",
      " 114604 114604 114604 114604 114604 114604 114604 114604 114604 114604]\n"
     ]
    },
    {
     "data": {
      "text/plain": [
       "[<matplotlib.lines.Line2D at 0x191f9ed4cc0>]"
      ]
     },
     "execution_count": 16,
     "metadata": {},
     "output_type": "execute_result"
    },
    {
     "data": {
      "image/png": "[encoded data removed]",
      "text/plain": [
       "<Figure size 432x288 with 1 Axes>"
      ]
     },
     "metadata": {
      "needs_background": "light"
     },
     "output_type": "display_data"
    }
   ],
   "source": [
    "print(2**20-raw_horizontal_values[:100])\n",
    "plt.plot((2*20) - raw_horizontal_values[:100])"
   ]
  },
  {
   "cell_type": "code",
   "execution_count": 17,
   "metadata": {},
   "outputs": [
    {
     "name": "stdout",
     "output_type": "stream",
     "text": [
      "1048575\n",
      "[933972 933972 933972 933972 933972 933972 933972 933972 933972 933972]\n",
      "[4294852692 4294852692 4294852692 4294852692 4294852692 4294852692\n",
      " 4294852692 4294852692 4294852692 4294852692]\n",
      "[114604 114604 114604 114604 114604 114604 114604 114604 114604 114604]\n"
     ]
    }
   ],
   "source": [
    "print(0xfffff)\n",
    "print(raw_horizontal_values[:10])\n",
    "print(horizontal_values[:10])\n",
    "print((2**20) - raw_horizontal_values[:10])"
   ]
  },
  {
   "cell_type": "code",
   "execution_count": 18,
   "metadata": {},
   "outputs": [
    {
     "data": {
      "text/plain": [
       "<matplotlib.collections.PathCollection at 0x191f9f3c278>"
      ]
     },
     "execution_count": 18,
     "metadata": {},
     "output_type": "execute_result"
    },
    {
     "data": {
      "image/png": "[encoded data removed]",
      "text/plain": [
       "<Figure size 432x288 with 1 Axes>"
      ]
     },
     "metadata": {
      "needs_background": "light"
     },
     "output_type": "display_data"
    }
   ],
   "source": [
    "whe = np.nonzero(is_motion)[0]\n",
    "n = len(whe)\n",
    "plt.scatter(range(n), whe)"
   ]
  },
  {
   "cell_type": "code",
   "execution_count": 19,
   "metadata": {},
   "outputs": [
    {
     "name": "stdout",
     "output_type": "stream",
     "text": [
      "[   13244    27818    42592 ... 16833869 16848211 16862810]\n",
      "1154\n"
     ]
    }
   ],
   "source": [
    "print(whe)\n",
    "print(n)"
   ]
  },
  {
   "cell_type": "code",
   "execution_count": 20,
   "metadata": {},
   "outputs": [
    {
     "name": "stdout",
     "output_type": "stream",
     "text": [
      "933972 933972\n"
     ]
    }
   ],
   "source": [
    "print(np.min(raw_horizontal_values), np.max(raw_horizontal_values))"
   ]
  },
  {
   "cell_type": "code",
   "execution_count": 21,
   "metadata": {},
   "outputs": [
    {
     "name": "stdout",
     "output_type": "stream",
     "text": [
      "[14574 14774 14926 ... 14582 14342 14599]\n"
     ]
    }
   ],
   "source": [
    "print(np.diff(whe))"
   ]
  },
  {
   "cell_type": "code",
   "execution_count": 22,
   "metadata": {},
   "outputs": [
    {
     "data": {
      "text/plain": [
       "52"
      ]
     },
     "execution_count": 22,
     "metadata": {},
     "output_type": "execute_result"
    }
   ],
   "source": [
    "a = 10\n",
    "np.sum(is_timetag[whe[a]:whe[a+1]])"
   ]
  },
  {
   "cell_type": "code",
   "execution_count": 23,
   "metadata": {},
   "outputs": [
    {
     "name": "stdout",
     "output_type": "stream",
     "text": [
      "0\n"
     ]
    }
   ],
   "source": [
    "is_moving = petlink32.IS_HORIZONTAL_MOVING.compare(listmode_motion)\n",
    "print(np.sum(is_moving))"
   ]
  },
  {
   "cell_type": "code",
   "execution_count": 24,
   "metadata": {},
   "outputs": [
    {
     "name": "stdout",
     "output_type": "stream",
     "text": [
      "[    0     1     2 ... 60011 60012 60013]\n"
     ]
    }
   ],
   "source": [
    "#time values\n",
    "timetag_ms = petlink32.TIME_MS.evaluate(listmode_data[is_timetag])\n",
    "print(timetag_ms)"
   ]
  },
  {
   "cell_type": "code",
   "execution_count": 25,
   "metadata": {},
   "outputs": [
    {
     "name": "stdout",
     "output_type": "stream",
     "text": [
      "control packet \n",
      "11111111111111110000000000000000\n",
      "at 17955, between 0 and 16866873\n",
      "at time 63 ms\n"
     ]
    }
   ],
   "source": [
    "# control packet\n",
    "place = np.nonzero(is_control)[0][0]\n",
    "print(\"control packet \\n{0:b}\".format(listmode_data[place]))\n",
    "print(\"at {}, between 0 and {}\".format(place, N))\n",
    "print(\"at time {} ms\".format(np.sum(is_timetag[:place])))"
   ]
  },
  {
   "cell_type": "code",
   "execution_count": 26,
   "metadata": {},
   "outputs": [
    {
     "name": "stdout",
     "output_type": "stream",
     "text": [
      "diff in timetags and elapsed markers 1427\n"
     ]
    }
   ],
   "source": [
    "# elapsed time packets, and not singles rate\n",
    "is_time_marker = petlink32.ELAPSED_TIME_MARKER.compare(listmode_data)\n",
    "time_marker_count = np.sum(is_time_marker)\n",
    "time_diff = timetag_count - time_marker_count\n",
    "print(\"diff in timetags and elapsed markers {}\".format(time_diff))"
   ]
  },
  {
   "cell_type": "code",
   "execution_count": 27,
   "metadata": {},
   "outputs": [
    {
     "name": "stdout",
     "output_type": "stream",
     "text": [
      "dead time count 1427\n"
     ]
    }
   ],
   "source": [
    "is_dead_time = petlink32.DEAD_TIME_MARKER.compare(listmode_data)\n",
    "dt_count = np.sum(is_dead_time)\n",
    "print(\"dead time count {}\".format(dt_count))"
   ]
  },
  {
   "cell_type": "code",
   "execution_count": 28,
   "metadata": {},
   "outputs": [
    {
     "name": "stdout",
     "output_type": "stream",
     "text": [
      "dt blocks = [896   0   1 ...  47 768 896]\n"
     ]
    }
   ],
   "source": [
    "dt_blocks = petlink32.DEAD_TIME_BLOCK.evaluate(listmode_data[is_dead_time])\n",
    "print(\"dt blocks = {}\".format(dt_blocks))"
   ]
  },
  {
   "cell_type": "code",
   "execution_count": 29,
   "metadata": {},
   "outputs": [
    {
     "name": "stdout",
     "output_type": "stream",
     "text": [
      "0\n"
     ]
    }
   ],
   "source": [
    "print(0 & 1)"
   ]
  },
  {
   "cell_type": "code",
   "execution_count": 30,
   "metadata": {},
   "outputs": [
    {
     "name": "stdout",
     "output_type": "stream",
     "text": [
      "0\n",
      "1\n"
     ]
    }
   ],
   "source": [
    "print( 1 ^ 1)\n",
    "print(1 ^ 0)"
   ]
  },
  {
   "cell_type": "code",
   "execution_count": 31,
   "metadata": {},
   "outputs": [
    {
     "name": "stdout",
     "output_type": "stream",
     "text": [
      "1\n",
      "0\n"
     ]
    }
   ],
   "source": [
    "print( 1 & 1)\n",
    "print(0 & 0)"
   ]
  },
  {
   "cell_type": "code",
   "execution_count": 32,
   "metadata": {},
   "outputs": [
    {
     "name": "stdout",
     "output_type": "stream",
     "text": [
      "5\n"
     ]
    }
   ],
   "source": [
    "print(0b10+0b11)"
   ]
  },
  {
   "cell_type": "code",
   "execution_count": null,
   "metadata": {},
   "outputs": [],
   "source": []
  }
 ],
 "metadata": {
  "kernelspec": {
   "display_name": "Python 3",
   "language": "python",
   "name": "python3"
  },
  "language_info": {
   "codemirror_mode": {
    "name": "ipython",
    "version": 3
   },
   "file_extension": ".py",
   "mimetype": "text/x-python",
   "name": "python",
   "nbconvert_exporter": "python",
   "pygments_lexer": "ipython3",
   "version": "3.7.1"
  }
 },
 "nbformat": 4,
 "nbformat_minor": 4
}
