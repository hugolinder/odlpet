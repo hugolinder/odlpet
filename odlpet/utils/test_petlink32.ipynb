{
 "cells": [
  {
   "cell_type": "code",
   "execution_count": 1,
   "metadata": {},
   "outputs": [],
   "source": [
    "import petlink32\n",
    "import numpy as np\n",
    "import time"
   ]
  },
  {
   "cell_type": "code",
   "execution_count": 2,
   "metadata": {},
   "outputs": [],
   "source": [
    "#prints from Siemens walkthrough, a bed position tag\n",
    "ew1 =  0xc40d180c\n",
    "hbp = 0xd180c\n",
    "hbp_se = -190452"
   ]
  },
  {
   "cell_type": "code",
   "execution_count": 3,
   "metadata": {},
   "outputs": [
    {
     "name": "stdout",
     "output_type": "stream",
     "text": [
      "hbp diff = 0\n"
     ]
    }
   ],
   "source": [
    "my_hbp = petlink32.HORIZONTAL_BED_POSITION.evaluate(hbp)\n",
    "print(\"hbp diff = {}\".format(hbp-my_hbp))"
   ]
  },
  {
   "cell_type": "code",
   "execution_count": 4,
   "metadata": {},
   "outputs": [
    {
     "name": "stdout",
     "output_type": "stream",
     "text": [
      "-190452\n",
      "hbp_se diff = 0\n"
     ]
    }
   ],
   "source": [
    "my_hbp_se = petlink32.sign_extend(my_hbp, 20)\n",
    "print(my_hbp_se)\n",
    "diff = hbp_se - my_hbp_se\n",
    "print(\"hbp_se diff = {}\".format(diff))"
   ]
  },
  {
   "cell_type": "code",
   "execution_count": 5,
   "metadata": {},
   "outputs": [
    {
     "name": "stdout",
     "output_type": "stream",
     "text": [
      "[-190452 -190452 -190452]\n"
     ]
    }
   ],
   "source": [
    "print(petlink32.sign_extend(np.array([my_hbp]*3), 20))"
   ]
  },
  {
   "cell_type": "code",
   "execution_count": 13,
   "metadata": {},
   "outputs": [
    {
     "name": "stdout",
     "output_type": "stream",
     "text": [
      "['0: Tag bit ', 'P: Prompt (1 - Prompt; 0 - Delay)', 'B: Bin Address: 0-29']\n",
      "packet(name = PET Bin-Address Event Packet\n",
      "PETLink_doc_str = 0PBB BBBB BBBB BBBB BBBB BBBB BBBB BBBB\n",
      "parts = \n",
      "0: Tag bit \n",
      "(lowbit, highbit) = (31, 31)\n",
      "value = 0 (base 2)\n",
      "mask =  1000 0000 0000 0000 0000 0000 0000 0000\n",
      "---\n",
      "P: Prompt (1 - Prompt; 0 - Delay)\n",
      "(lowbit, highbit) = (30, 30)\n",
      "mask =  0100 0000 0000 0000 0000 0000 0000 0000\n",
      "---\n",
      "B: Bin Address: 0-29\n",
      "(lowbit, highbit) = (0, 29)\n",
      "mask =  0011 1111 1111 1111 1111 1111 1111 1111)\n",
      "packet compare: event = True, tag = False\n"
     ]
    },
    {
     "ename": "NameError",
     "evalue": "name 'value_parts' is not defined",
     "output_type": "error",
     "traceback": [
      "\u001b[1;31m---------------------------------------------------------------------------\u001b[0m",
      "\u001b[1;31mNameError\u001b[0m                                 Traceback (most recent call last)",
      "\u001b[1;32m<ipython-input-13-c30ccecdc0e0>\u001b[0m in \u001b[0;36m<module>\u001b[1;34m\u001b[0m\n\u001b[0;32m     13\u001b[0m \u001b[0mevent\u001b[0m \u001b[1;33m=\u001b[0m \u001b[1;36m23\u001b[0m\u001b[1;33m\u001b[0m\u001b[1;33m\u001b[0m\u001b[0m\n\u001b[0;32m     14\u001b[0m \u001b[0mprint\u001b[0m\u001b[1;33m(\u001b[0m\u001b[1;34m\"packet compare: event = {}, tag = {}\"\u001b[0m\u001b[1;33m.\u001b[0m\u001b[0mformat\u001b[0m\u001b[1;33m(\u001b[0m\u001b[0mpacket\u001b[0m\u001b[1;33m.\u001b[0m\u001b[0mcompare\u001b[0m\u001b[1;33m(\u001b[0m\u001b[0mevent\u001b[0m\u001b[1;33m)\u001b[0m\u001b[1;33m,\u001b[0m \u001b[0mpacket\u001b[0m\u001b[1;33m.\u001b[0m\u001b[0mcompare\u001b[0m\u001b[1;33m(\u001b[0m\u001b[0mtag\u001b[0m\u001b[1;33m)\u001b[0m\u001b[1;33m)\u001b[0m\u001b[1;33m)\u001b[0m\u001b[1;33m\u001b[0m\u001b[1;33m\u001b[0m\u001b[0m\n\u001b[1;32m---> 15\u001b[1;33m \u001b[0mprint\u001b[0m\u001b[1;33m(\u001b[0m\u001b[1;34m\"event packet evaluation \"\u001b[0m\u001b[1;33m,\u001b[0m \u001b[0mpacket\u001b[0m\u001b[1;33m.\u001b[0m\u001b[0mevaluate\u001b[0m\u001b[1;33m(\u001b[0m\u001b[0mevent\u001b[0m\u001b[1;33m)\u001b[0m\u001b[1;33m)\u001b[0m\u001b[1;33m\u001b[0m\u001b[1;33m\u001b[0m\u001b[0m\n\u001b[0m",
      "\u001b[1;32m~\\Desktop\\Hugo\\Code\\odlpet\\odlpet\\utils\\petlink32.py\u001b[0m in \u001b[0;36mevaluate\u001b[1;34m(self, number)\u001b[0m\n\u001b[0;32m     65\u001b[0m         \u001b[1;34m\"\"\" return sequence of number evalations, one per part in the packet. \"\"\"\u001b[0m\u001b[1;33m\u001b[0m\u001b[1;33m\u001b[0m\u001b[0m\n\u001b[0;32m     66\u001b[0m         \u001b[0mvalues\u001b[0m \u001b[1;33m=\u001b[0m \u001b[1;33m[\u001b[0m\u001b[1;33m]\u001b[0m\u001b[1;33m\u001b[0m\u001b[1;33m\u001b[0m\u001b[0m\n\u001b[1;32m---> 67\u001b[1;33m         \u001b[1;32mfor\u001b[0m \u001b[0mpart\u001b[0m \u001b[1;32min\u001b[0m \u001b[0mvalue_parts\u001b[0m\u001b[1;33m:\u001b[0m\u001b[1;33m\u001b[0m\u001b[1;33m\u001b[0m\u001b[0m\n\u001b[0m\u001b[0;32m     68\u001b[0m             \u001b[0mvalues\u001b[0m\u001b[1;33m.\u001b[0m\u001b[0mappend\u001b[0m\u001b[1;33m(\u001b[0m\u001b[0mpart\u001b[0m\u001b[1;33m.\u001b[0m\u001b[0mevaluate\u001b[0m\u001b[1;33m(\u001b[0m\u001b[0mnumber\u001b[0m\u001b[1;33m)\u001b[0m\u001b[1;33m)\u001b[0m\u001b[1;33m\u001b[0m\u001b[1;33m\u001b[0m\u001b[0m\n\u001b[0;32m     69\u001b[0m         \u001b[1;32mreturn\u001b[0m \u001b[0mvalues\u001b[0m\u001b[1;33m\u001b[0m\u001b[1;33m\u001b[0m\u001b[0m\n",
      "\u001b[1;31mNameError\u001b[0m: name 'value_parts' is not defined"
     ]
    }
   ],
   "source": [
    "# packet construction from PETLink document\n",
    "doc_string = [\"PET Bin-Address Event Packet\", \n",
    "              \"0PBB BBBB BBBB BBBB BBBB BBBB BBBB BBBB\",\n",
    "              \"P: Prompt (1 - Prompt; 0 - Delay)\",\n",
    "              \"B: Bin Address: 0-29\"] \n",
    "packet_name = doc_string[0]\n",
    "part_names = [\"0: Tag bit \"] + doc_string[2:]\n",
    "print(part_names)\n",
    "packet_instruction = doc_string[1]\n",
    "packet = petlink32.packet(packet_instruction, packet_name, part_names)\n",
    "print(packet)\n",
    "tag = 1 << 31\n",
    "event = 23 \n",
    "print(\"packet compare: event = {}, tag = {}\".format(packet.compare(event), packet.compare(tag)))\n",
    "print(\"event packet evaluation \", packet.evaluate(event))"
   ]
  },
  {
   "cell_type": "code",
   "execution_count": 7,
   "metadata": {},
   "outputs": [
    {
     "ename": "SyntaxError",
     "evalue": "EOL while scanning string literal (<ipython-input-7-156e6c86131f>, line 1)",
     "output_type": "error",
     "traceback": [
      "\u001b[1;36m  File \u001b[1;32m\"<ipython-input-7-156e6c86131f>\"\u001b[1;36m, line \u001b[1;32m1\u001b[0m\n\u001b[1;33m    doc_string = \"Position Profile Data (Maintenance) \\n ...\u001b[0m\n\u001b[1;37m                                                            ^\u001b[0m\n\u001b[1;31mSyntaxError\u001b[0m\u001b[1;31m:\u001b[0m EOL while scanning string literal\n"
     ]
    }
   ],
   "source": [
    "doc_string = \"Position Profile Data (Maintenance) \\n ...\n",
    "0uuu uHHH BBBB BBBh XXXX XXXX YYYY YYYY \\n ...\n",
    "u: Undefined (Default: Set to zero.) \\n\n",
    "H: Head number: 0-2 [See 3 H-field bits labelled by \\\"210 \\\" above.] \\n\n",
    "B: Block position: 0-6 \\n\n",
    "h: Hit bit (always = 1) \\n\n",
    "X: X position data: 0-7 \\n\n",
    "Y: Y position data: 0-7 \\n \""
   ]
  },
  {
   "cell_type": "code",
   "execution_count": null,
   "metadata": {},
   "outputs": [],
   "source": []
  },
  {
   "cell_type": "code",
   "execution_count": null,
   "metadata": {},
   "outputs": [],
   "source": []
  }
 ],
 "metadata": {
  "kernelspec": {
   "display_name": "Python 3",
   "language": "python",
   "name": "python3"
  },
  "language_info": {
   "codemirror_mode": {
    "name": "ipython",
    "version": 3
   },
   "file_extension": ".py",
   "mimetype": "text/x-python",
   "name": "python",
   "nbconvert_exporter": "python",
   "pygments_lexer": "ipython3",
   "version": "3.7.1"
  }
 },
 "nbformat": 4,
 "nbformat_minor": 4
}
