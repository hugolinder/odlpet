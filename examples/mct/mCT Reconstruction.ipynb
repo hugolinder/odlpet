{
 "cells": [
  {
   "cell_type": "markdown",
   "metadata": {},
   "source": [
    "# Basic mCT Pipeline"
   ]
  },
  {
   "cell_type": "markdown",
   "metadata": {},
   "source": [
    "The reconstructionm pipeline, assuming that the sinograms are available in the form of stored numpy arrays (`npy` files)."
   ]
  },
  {
   "cell_type": "code",
   "execution_count": 1,
   "metadata": {},
   "outputs": [],
   "source": [
    "%matplotlib inline\n",
    "import matplotlib.pyplot as plt"
   ]
  },
  {
   "cell_type": "markdown",
   "metadata": {},
   "source": [
    "## PET Projector"
   ]
  },
  {
   "cell_type": "code",
   "execution_count": 2,
   "metadata": {},
   "outputs": [],
   "source": [
    "from odlpet import Compression, Scanner"
   ]
  },
  {
   "cell_type": "code",
   "execution_count": 3,
   "metadata": {},
   "outputs": [],
   "source": [
    "%run mct.py"
   ]
  },
  {
   "cell_type": "code",
   "execution_count": 4,
   "metadata": {},
   "outputs": [],
   "source": [
    "c = Compression(mCT())"
   ]
  },
  {
   "cell_type": "code",
   "execution_count": 469,
   "metadata": {},
   "outputs": [],
   "source": [
    "c.num_of_views = 168\n",
    "#c.num_non_arccor_bins = 400\n",
    "c.num_non_arccor_bins = 200\n",
    "c.data_arc_corrected = True\n",
    "c.span_num = 11\n",
    "# the following is new:\n",
    "c.max_num_segments = 45"
   ]
  },
  {
   "cell_type": "code",
   "execution_count": 470,
   "metadata": {},
   "outputs": [
    {
     "data": {
      "text/plain": [
       "55"
      ]
     },
     "execution_count": 470,
     "metadata": {},
     "output_type": "execute_result"
    }
   ],
   "source": [
    "c.scanner.num_rings"
   ]
  },
  {
   "cell_type": "code",
   "execution_count": 579,
   "metadata": {},
   "outputs": [],
   "source": [
    "#proj = c.get_projector(stir_domain=c.get_stir_domain(sizes=(109,200,200)), restrict_to_cylindrical_FOV=False)\n",
    "proj = c.get_projector(stir_domain=c.get_stir_domain(zoom=.5),restrict_to_cylindrical_FOV=False)"
   ]
  },
  {
   "cell_type": "code",
   "execution_count": 472,
   "metadata": {},
   "outputs": [
    {
     "data": {
      "text/plain": [
       "uniform_discr([   0., -400., -400.], [ 226.72,  408.  ,  408.  ], (109, 101, 101), dtype='float32')"
      ]
     },
     "execution_count": 472,
     "metadata": {},
     "output_type": "execute_result"
    }
   ],
   "source": [
    "proj.domain"
   ]
  },
  {
   "cell_type": "code",
   "execution_count": 473,
   "metadata": {},
   "outputs": [
    {
     "name": "stdout",
     "output_type": "stream",
     "text": [
      "CPU times: user 20.5 s, sys: 116 ms, total: 20.6 s\n",
      "Wall time: 20.5 s\n"
     ]
    },
    {
     "data": {
      "text/plain": [
       "uniform_discr([   0.,    0., -421.], [ 621.    ,    3.1416,  421.    ], (621, 168, 200), dtype='float32').element(\n",
       "    [[[  0.      ,  15.      ,  21.      , ...,  25.      ,  21.      ,\n",
       "        15.      ],\n",
       "      [  0.      ,  15.002622,  21.003674, ...,  25.004375,  21.003674,\n",
       "        15.002622],\n",
       "      [  0.      ,  15.010498,  21.0147  , ...,  25.017498,  21.0147  ,\n",
       "        15.010498],\n",
       "      ..., \n",
       "      [  0.      ,  15.023633,  21.033089, ...,  25.039387,  21.033089,\n",
       "        15.023633],\n",
       "      [  0.      ,  15.010498,  21.0147  , ...,  25.017498,  21.0147  ,\n",
       "        15.010498],\n",
       "      [  0.      ,  15.002622,  21.003674, ...,  25.004375,  21.003674,\n",
       "        15.002622]],\n",
       "    \n",
       "     [[  0.      ,  15.      ,  21.      , ...,  25.      ,  21.      ,\n",
       "        15.      ],\n",
       "      [  0.      ,  15.002622,  21.003674, ...,  25.004375,  21.003674,\n",
       "        15.002622],\n",
       "      [  0.      ,  15.010498,  21.0147  , ...,  25.017498,  21.0147  ,\n",
       "        15.010498],\n",
       "      ..., \n",
       "      [  0.      ,  15.023633,  21.033089, ...,  25.039387,  21.033089,\n",
       "        15.023633],\n",
       "      [  0.      ,  15.010498,  21.0147  , ...,  25.017498,  21.0147  ,\n",
       "        15.010498],\n",
       "      [  0.      ,  15.002622,  21.003674, ...,  25.004375,  21.003674,\n",
       "        15.002622]],\n",
       "    \n",
       "     [[  0.      ,  15.      ,  21.      , ...,  25.      ,  21.      ,\n",
       "        15.      ],\n",
       "      [  0.      ,  15.002622,  21.003674, ...,  25.004375,  21.003674,\n",
       "        15.002622],\n",
       "      [  0.      ,  15.010498,  21.0147  , ...,  25.017498,  21.0147  ,\n",
       "        15.010498],\n",
       "      ..., \n",
       "      [  0.      ,  15.023633,  21.033089, ...,  25.039387,  21.033089,\n",
       "        15.023633],\n",
       "      [  0.      ,  15.010498,  21.0147  , ...,  25.017498,  21.0147  ,\n",
       "        15.010498],\n",
       "      [  0.      ,  15.002622,  21.003674, ...,  25.004375,  21.003674,\n",
       "        15.002622]],\n",
       "    \n",
       "     ..., \n",
       "     [[  0.      ,  17.01221 ,  22.372519, ...,  27.76933 ,  22.372519,\n",
       "        17.01221 ],\n",
       "      [  0.      ,  16.939571,  22.372519, ...,  27.774181,  22.372519,\n",
       "        16.939571],\n",
       "      [  0.      ,  16.859081,  22.372519, ...,  27.722593,  22.372519,\n",
       "        16.859081],\n",
       "      ..., \n",
       "      [  0.      ,  16.780663,  22.372519, ...,  27.62993 ,  22.372519,\n",
       "        16.780663],\n",
       "      [  0.      ,  16.859081,  22.372519, ...,  27.722593,  22.372519,\n",
       "        16.859081],\n",
       "      [  0.      ,  16.939571,  22.372519, ...,  27.774181,  22.372519,\n",
       "        16.939571]],\n",
       "    \n",
       "     [[  0.      ,  17.01221 ,  22.372519, ...,  27.76933 ,  22.372519,\n",
       "        17.01221 ],\n",
       "      [  0.      ,  16.939571,  22.372519, ...,  27.774181,  22.372519,\n",
       "        16.939571],\n",
       "      [  0.      ,  16.859081,  22.372519, ...,  27.722593,  22.372519,\n",
       "        16.859081],\n",
       "      ..., \n",
       "      [  0.      ,  16.780663,  22.372519, ...,  27.62993 ,  22.372519,\n",
       "        16.780663],\n",
       "      [  0.      ,  16.859081,  22.372519, ...,  27.722593,  22.372519,\n",
       "        16.859081],\n",
       "      [  0.      ,  16.939571,  22.372519, ...,  27.774181,  22.372519,\n",
       "        16.939571]],\n",
       "    \n",
       "     [[  0.      ,  17.01221 ,  22.372519, ...,  27.76933 ,  22.372519,\n",
       "        17.01221 ],\n",
       "      [  0.      ,  16.939571,  22.372519, ...,  27.774181,  22.372519,\n",
       "        16.939571],\n",
       "      [  0.      ,  16.859081,  22.372519, ...,  27.722593,  22.372519,\n",
       "        16.859081],\n",
       "      ..., \n",
       "      [  0.      ,  16.780663,  22.372519, ...,  27.62993 ,  22.372519,\n",
       "        16.780663],\n",
       "      [  0.      ,  16.859081,  22.372519, ...,  27.722593,  22.372519,\n",
       "        16.859081],\n",
       "      [  0.      ,  16.939571,  22.372519, ...,  27.774181,  22.372519,\n",
       "        16.939571]]]\n",
       ")"
      ]
     },
     "execution_count": 473,
     "metadata": {},
     "output_type": "execute_result"
    }
   ],
   "source": [
    "%%time\n",
    "proj(proj.domain.one());"
   ]
  },
  {
   "cell_type": "markdown",
   "metadata": {},
   "source": [
    "## Read some sinogram (already stored in NumPy format)"
   ]
  },
  {
   "cell_type": "code",
   "execution_count": 474,
   "metadata": {},
   "outputs": [],
   "source": [
    "from pathlib import Path"
   ]
  },
  {
   "cell_type": "code",
   "execution_count": 475,
   "metadata": {},
   "outputs": [],
   "source": [
    "base_path = Path(\"/mnt/data/olivierv/\")"
   ]
  },
  {
   "cell_type": "code",
   "execution_count": 476,
   "metadata": {},
   "outputs": [],
   "source": [
    "data_path = base_path / \"Decompressed\""
   ]
  },
  {
   "cell_type": "code",
   "execution_count": 477,
   "metadata": {},
   "outputs": [
    {
     "name": "stdout",
     "output_type": "stream",
     "text": [
      "/mnt/data/olivierv/Decompressed/P00.npy\n",
      "/mnt/data/olivierv/Decompressed/P01.npy\n",
      "/mnt/data/olivierv/Decompressed/P02.npy\n"
     ]
    }
   ],
   "source": [
    "!ls {data_path}/*npy"
   ]
  },
  {
   "cell_type": "code",
   "execution_count": 478,
   "metadata": {},
   "outputs": [],
   "source": [
    "import numpy as np"
   ]
  },
  {
   "cell_type": "code",
   "execution_count": 479,
   "metadata": {},
   "outputs": [],
   "source": [
    "sino_arrays = [ np.load(data_path / 'P0{}.npy'.format(i)) for i in range(3)]"
   ]
  },
  {
   "cell_type": "markdown",
   "metadata": {},
   "source": [
    "## Reconstruction"
   ]
  },
  {
   "cell_type": "markdown",
   "metadata": {},
   "source": [
    "Choose the bed position:"
   ]
  },
  {
   "cell_type": "code",
   "execution_count": 480,
   "metadata": {},
   "outputs": [],
   "source": [
    "bed_position = 0"
   ]
  },
  {
   "cell_type": "code",
   "execution_count": 481,
   "metadata": {},
   "outputs": [],
   "source": [
    "data = sino_arrays[bed_position]"
   ]
  },
  {
   "cell_type": "markdown",
   "metadata": {},
   "source": [
    "Unfortunately, we can't scale the projector up to 400 tangential coordinates, so we have to downsample the data instead:"
   ]
  },
  {
   "cell_type": "code",
   "execution_count": 482,
   "metadata": {},
   "outputs": [
    {
     "data": {
      "text/plain": [
       "(621, 168, 400)"
      ]
     },
     "execution_count": 482,
     "metadata": {},
     "output_type": "execute_result"
    }
   ],
   "source": [
    "data.shape"
   ]
  },
  {
   "cell_type": "code",
   "execution_count": 483,
   "metadata": {},
   "outputs": [],
   "source": [
    "data_ = (data[...,::2] + data[...,1::2])/2"
   ]
  },
  {
   "cell_type": "code",
   "execution_count": 484,
   "metadata": {},
   "outputs": [
    {
     "data": {
      "text/plain": [
       "(621, 168, 200)"
      ]
     },
     "execution_count": 484,
     "metadata": {},
     "output_type": "execute_result"
    }
   ],
   "source": [
    "data_.shape"
   ]
  },
  {
   "cell_type": "code",
   "execution_count": 485,
   "metadata": {},
   "outputs": [],
   "source": [
    "sino = proj.range.element(data_)"
   ]
  },
  {
   "cell_type": "markdown",
   "metadata": {},
   "source": [
    "Initialise the reconstruction."
   ]
  },
  {
   "cell_type": "code",
   "execution_count": 486,
   "metadata": {},
   "outputs": [],
   "source": [
    "recon = proj.domain.one()\n",
    "iters = 0"
   ]
  },
  {
   "cell_type": "code",
   "execution_count": 487,
   "metadata": {},
   "outputs": [],
   "source": [
    "import odl"
   ]
  },
  {
   "cell_type": "code",
   "execution_count": 24,
   "metadata": {},
   "outputs": [
    {
     "name": "stdout",
     "output_type": "stream",
     "text": [
      "2 0.0242567\n",
      "CPU times: user 1min 17s, sys: 728 ms, total: 1min 18s\n",
      "Wall time: 1min 13s\n"
     ]
    }
   ],
   "source": [
    "%%time\n",
    "nb_iters = 2\n",
    "odl.solvers.iterative.statistical.mlem(proj, recon, sino, niter=nb_iters)\n",
    "iters += nb_iters\n",
    "print(iters, recon.asarray().max())\n",
    "#show_slice(phantom, 20);"
   ]
  },
  {
   "cell_type": "code",
   "execution_count": null,
   "metadata": {},
   "outputs": [],
   "source": []
  },
  {
   "cell_type": "markdown",
   "metadata": {},
   "source": [
    "### Save Reconstruction"
   ]
  },
  {
   "cell_type": "code",
   "execution_count": 26,
   "metadata": {},
   "outputs": [],
   "source": [
    "save_dir = base_path / \"cylrecos\""
   ]
  },
  {
   "cell_type": "code",
   "execution_count": 27,
   "metadata": {},
   "outputs": [],
   "source": [
    "save_path = save_dir / \"reco-{}-{}-{}.npy\".format(bed_position, recon.shape[1], iters)"
   ]
  },
  {
   "cell_type": "code",
   "execution_count": 28,
   "metadata": {},
   "outputs": [
    {
     "name": "stdout",
     "output_type": "stream",
     "text": [
      "/mnt/data/olivierv/cylrecos/reco-0-101-2.npy\n"
     ]
    }
   ],
   "source": [
    "print(save_path)"
   ]
  },
  {
   "cell_type": "code",
   "execution_count": 136,
   "metadata": {},
   "outputs": [],
   "source": [
    "np.save(save_path, recon)"
   ]
  },
  {
   "cell_type": "markdown",
   "metadata": {},
   "source": [
    "## Load Existing Reconstruction"
   ]
  },
  {
   "cell_type": "code",
   "execution_count": 488,
   "metadata": {},
   "outputs": [
    {
     "name": "stdout",
     "output_type": "stream",
     "text": [
      "reco-0-101-2.npy  reco-1-101-2.npy  reco-2-101-2.npy  reco2.npy\n"
     ]
    }
   ],
   "source": [
    "!ls {save_dir}"
   ]
  },
  {
   "cell_type": "code",
   "execution_count": 489,
   "metadata": {},
   "outputs": [],
   "source": [
    "reco2 = np.load(save_dir / 'reco-2-101-2.npy')"
   ]
  },
  {
   "cell_type": "code",
   "execution_count": 490,
   "metadata": {},
   "outputs": [],
   "source": [
    "reco0 = np.load(save_dir / 'reco-0-101-2.npy')"
   ]
  },
  {
   "cell_type": "code",
   "execution_count": 491,
   "metadata": {},
   "outputs": [
    {
     "data": {
      "text/plain": [
       "(109, 101, 101)"
      ]
     },
     "execution_count": 491,
     "metadata": {},
     "output_type": "execute_result"
    }
   ],
   "source": [
    "reco2.shape"
   ]
  },
  {
   "cell_type": "code",
   "execution_count": 492,
   "metadata": {},
   "outputs": [],
   "source": [
    "reco2 = proj.domain.element(reco2)"
   ]
  },
  {
   "cell_type": "code",
   "execution_count": 493,
   "metadata": {},
   "outputs": [],
   "source": [
    "reco0 = proj.domain.element(reco0)"
   ]
  },
  {
   "cell_type": "code",
   "execution_count": 494,
   "metadata": {},
   "outputs": [
    {
     "data": {
      "text/plain": [
       "uniform_discr([   0., -400., -400.], [ 226.72,  408.  ,  408.  ], (109, 101, 101), dtype='float32')"
      ]
     },
     "execution_count": 494,
     "metadata": {},
     "output_type": "execute_result"
    }
   ],
   "source": [
    "reco2.space"
   ]
  },
  {
   "cell_type": "code",
   "execution_count": 495,
   "metadata": {},
   "outputs": [
    {
     "data": {
      "image/png": "[encoded data removed]",
      "text/plain": [
       "<Figure size 432x288 with 1 Axes>"
      ]
     },
     "metadata": {
      "needs_background": "light"
     },
     "output_type": "display_data"
    },
    {
     "data": {
      "text/plain": [
       "<Figure size 432x288 with 0 Axes>"
      ]
     },
     "metadata": {},
     "output_type": "display_data"
    }
   ],
   "source": [
    "reco2.show(coords=(200,0,None));"
   ]
  },
  {
   "cell_type": "code",
   "execution_count": 496,
   "metadata": {},
   "outputs": [
    {
     "data": {
      "image/png": "[encoded data removed]",
      "text/plain": [
       "<Figure size 432x288 with 2 Axes>"
      ]
     },
     "metadata": {
      "needs_background": "light"
     },
     "output_type": "display_data"
    },
    {
     "data": {
      "text/plain": [
       "<Figure size 432x288 with 0 Axes>"
      ]
     },
     "metadata": {},
     "output_type": "display_data"
    },
    {
     "data": {
      "image/png": "[encoded data removed]",
      "text/plain": [
       "<Figure size 432x288 with 2 Axes>"
      ]
     },
     "execution_count": 496,
     "metadata": {},
     "output_type": "execute_result"
    }
   ],
   "source": [
    "#reco2[45].show(aspect='equal');\n",
    "reco0[:,45,:].show()"
   ]
  },
  {
   "cell_type": "code",
   "execution_count": 497,
   "metadata": {},
   "outputs": [
    {
     "data": {
      "text/plain": [
       "(109, 101, 101)"
      ]
     },
     "execution_count": 497,
     "metadata": {},
     "output_type": "execute_result"
    }
   ],
   "source": [
    "reco0.shape"
   ]
  },
  {
   "cell_type": "code",
   "execution_count": null,
   "metadata": {},
   "outputs": [],
   "source": []
  },
  {
   "cell_type": "code",
   "execution_count": 498,
   "metadata": {},
   "outputs": [
    {
     "data": {
      "image/png": "[encoded data removed]",
      "text/plain": [
       "<Figure size 432x288 with 1 Axes>"
      ]
     },
     "metadata": {
      "needs_background": "light"
     },
     "output_type": "display_data"
    },
    {
     "data": {
      "text/plain": [
       "<Figure size 432x288 with 0 Axes>"
      ]
     },
     "metadata": {},
     "output_type": "display_data"
    }
   ],
   "source": [
    "#reco2.show(coords=(None,0,None));\n",
    "reco0.show(coords=(45,50,None));"
   ]
  },
  {
   "cell_type": "code",
   "execution_count": 499,
   "metadata": {},
   "outputs": [
    {
     "data": {
      "text/plain": [
       "<matplotlib.image.AxesImage at 0x7ff90683ea58>"
      ]
     },
     "execution_count": 499,
     "metadata": {},
     "output_type": "execute_result"
    },
    {
     "data": {
      "image/png": "[encoded data removed]",
      "text/plain": [
       "<Figure size 432x288 with 1 Axes>"
      ]
     },
     "metadata": {
      "needs_background": "light"
     },
     "output_type": "display_data"
    }
   ],
   "source": [
    "plt.imshow(reco0[:,45,:])"
   ]
  },
  {
   "cell_type": "code",
   "execution_count": 500,
   "metadata": {},
   "outputs": [
    {
     "data": {
      "text/plain": [
       "<matplotlib.image.AxesImage at 0x7ff906813b38>"
      ]
     },
     "execution_count": 500,
     "metadata": {},
     "output_type": "execute_result"
    },
    {
     "data": {
      "image/png": "[encoded data removed]",
      "text/plain": [
       "<Figure size 432x288 with 1 Axes>"
      ]
     },
     "metadata": {
      "needs_background": "light"
     },
     "output_type": "display_data"
    }
   ],
   "source": [
    "plt.imshow(reg_attenuation_final[:,45,:])"
   ]
  },
  {
   "cell_type": "markdown",
   "metadata": {},
   "source": [
    "Here I try to include attenuation correction"
   ]
  },
  {
   "cell_type": "markdown",
   "metadata": {},
   "source": [
    "# Read in DICOM files"
   ]
  },
  {
   "cell_type": "code",
   "execution_count": 501,
   "metadata": {},
   "outputs": [],
   "source": [
    "from path import Path\n",
    "import pydicom\n",
    "\n",
    "ct_dir_path = Path('/mnt/data/olivierv/Cyl/AC_CT_0003/')"
   ]
  },
  {
   "cell_type": "markdown",
   "metadata": {},
   "source": [
    "# Create volume with slices in right order"
   ]
  },
  {
   "cell_type": "code",
   "execution_count": 68,
   "metadata": {},
   "outputs": [
    {
     "name": "stdout",
     "output_type": "stream",
     "text": [
      "CPU times: user 440 ms, sys: 64 ms, total: 504 ms\n",
      "Wall time: 520 ms\n"
     ]
    }
   ],
   "source": [
    "%%time\n",
    "#volume = np.array([pydicom.dcmread(f).pixel_array for f in ct_dir_path.listdir()])\n",
    "\n",
    "imas = [pydicom.dcmread(f) for f in ct_dir_path.listdir()]\n",
    "\n",
    "shuffled_volume = np.array([ima.pixel_array for ima in imas])\n",
    "\n",
    "pos = [int(ima.InstanceNumber) - 1 for ima in imas]\n",
    "\n",
    "volumect = np.zeros_like(shuffled_volume)\n",
    "\n",
    "volumect[pos] = shuffled_volume"
   ]
  },
  {
   "cell_type": "markdown",
   "metadata": {},
   "source": [
    "### Convert HU to attenuation values\n",
    "\n",
    "first HU are rescaled:"
   ]
  },
  {
   "cell_type": "code",
   "execution_count": 525,
   "metadata": {},
   "outputs": [],
   "source": [
    "dummy = pydicom.dcmread(ct_dir_path.listdir()[0])\n",
    "volumect_ = dummy.RescaleSlope*volumect.astype(np.float) + dummy.RescaleIntercept"
   ]
  },
  {
   "cell_type": "markdown",
   "metadata": {},
   "source": [
    "Then the values are translated from HU to linear attenuation coefficient at 551 keV, in units cm$^{-1}$.\n",
    "(probably we need a rescaling for the pixel size as well!)\n",
    "This is done following formula (from Carney Med Phys 33(4) 2006 (https://aapm.onlinelibrary.wiley.com/doi/full/10.1118/1.2174132)):\n",
    "\n",
    "If  x<  breakpoint, then  f(x)=(x+1000)9.6×10−5 \n",
    "\n",
    "If  x>  breakpoint, then  f(x)=a(x+1000)+b \n",
    "\n",
    "Note: the conversion values above depend on the kV"
   ]
  },
  {
   "cell_type": "markdown",
   "metadata": {},
   "source": [
    "p, and are obtained from table III from Carney above:"
   ]
  },
  {
   "cell_type": "code",
   "execution_count": 86,
   "metadata": {},
   "outputs": [],
   "source": [
    "#this can be certainly done in a more elegant way, but the following works I hope:\n",
    "kvp = dummy.KVP\n",
    "if kvp == 80 : \n",
    "        a = 3.64e-5\n",
    "        b=6.261e-2\n",
    "        breakpoint=50\n",
    "if kvp == 100 : \n",
    "        a = 4.43e-5\n",
    "        b=5.44e-2\n",
    "        breakpoint=52\n",
    "if kvp == 110 : \n",
    "        a = 4.92e-5\n",
    "        b=4.88e-2\n",
    "        breakpoint=43\n",
    "if kvp == 120 : \n",
    "        a = 5.1e-5\n",
    "        b=4.71e-2\n",
    "        breakpoint=47\n",
    "if kvp == 130 : \n",
    "        a = 5.51e-5\n",
    "        b=4.24e-2\n",
    "        breakpoint=37\n",
    "if kvp == 140 : \n",
    "        a = 5.64e-5\n",
    "        b=4.08e-2\n",
    "        breakpoint=30\n",
    "def attenuation_conversion(volume, breakpoint, a, b):\n",
    "    attenuation = np.zeros_like(volume)\n",
    "    small = volume < breakpoint\n",
    "    attenuation[small] = (volume[small] + 1000)*(9.6e-5)\n",
    "    attenuation[~small] = a*(volume[~small] + 1000) + b\n",
    "    attenuation = attenuation\n",
    "    return attenuation"
   ]
  },
  {
   "cell_type": "code",
   "execution_count": 560,
   "metadata": {},
   "outputs": [],
   "source": [
    "attenuation = attenuation_conversion(volumect_, breakpoint, a, b)#/10*float(dummy.PixelSpacing[0]) \n",
    "#the last multiplication is for scaling for the pixel size (works only for isotropic case, it makes no sense in this case\n",
    "#for the z-direction, which has a different spacing.\n",
    "\n",
    "# unfortunately some values can end up being negative\n",
    "attenuation[attenuation < 0] = 0"
   ]
  },
  {
   "cell_type": "code",
   "execution_count": 527,
   "metadata": {},
   "outputs": [
    {
     "data": {
      "text/plain": [
       "6.564102564102564"
      ]
     },
     "execution_count": 527,
     "metadata": {},
     "output_type": "execute_result"
    }
   ],
   "source": [
    "1/(float(dummy.PixelSpacing[0])/10)"
   ]
  },
  {
   "cell_type": "markdown",
   "metadata": {},
   "source": [
    "Registration and downsamplig of the mu_map \n",
    "(The following now works only for this particular case in which, by hand, I have registered the PET and CT images and come up with the fact that the CT image should be moved forward by 13 slices in the z direction (which is the first index). The solution of using the function roll is good as long as there are no attenuation structures in the last 13 slices (this is not exaclty true here). I am also guessing the slice thickness in the two cases, tryng to understand what the field of view for bed0 is and how many slices from the CT I should take. All of this is very approximative, still, for an homogeneous cylinder, if i got things slightly right, the attenuation correction should be ok.)"
   ]
  },
  {
   "cell_type": "code",
   "execution_count": 561,
   "metadata": {},
   "outputs": [
    {
     "name": "stderr",
     "output_type": "stream",
     "text": [
      "/opt/tljh/user/lib/python3.6/site-packages/skimage/transform/_warps.py:105: UserWarning: The default mode, 'constant', will be changed to 'reflect' in skimage 0.15.\n",
      "  warn(\"The default mode, 'constant', will be changed to 'reflect' in \"\n"
     ]
    }
   ],
   "source": [
    "from skimage.transform import resize\n",
    "n_slice_from_reg = 13\n",
    "reg_attenuation = np.roll(attenuation, n_slice_from_reg, axis=0)\n",
    "reg_attenuation_b0 = reg_attenuation[0:132,:,:]\n",
    "new_size_i = 101\n",
    "new_size_j = 101\n",
    "down_size = (133,101,101)\n",
    "inter_size = (109,101,200)\n",
    "final_size = (109,101,101)\n",
    "reg_attenuation_down = np.zeros(down_size)\n",
    "for z in range(133):\n",
    "    slice_or = reg_attenuation_b0[z-1,:,:]\n",
    "#slice_down = np.zeros[new_size_i,new_size_j]\n",
    "    slice_down = resize(slice_or,(new_size_i, new_size_j), anti_aliasing=True)\n",
    "    reg_attenuation_down[z] = slice_down\n",
    "reg_attenuation_inter = np.zeros(inter_size)\n",
    "reg_attenuation_final = np.zeros(final_size)\n",
    "for i in range(101):\n",
    "    slice_z = reg_attenuation_down[:,:,i-1]\n",
    "    slice_z_down = resize(slice_z,(109,101), anti_aliasing=True)\n",
    "    reg_attenuation_final[:,:,i-1] = slice_z_down"
   ]
  },
  {
   "cell_type": "code",
   "execution_count": 562,
   "metadata": {},
   "outputs": [
    {
     "data": {
      "text/plain": [
       "<matplotlib.image.AxesImage at 0x7ff90579f7b8>"
      ]
     },
     "execution_count": 562,
     "metadata": {},
     "output_type": "execute_result"
    },
    {
     "data": {
      "image/png": "[encoded data removed]",
      "text/plain": [
       "<Figure size 432x288 with 1 Axes>"
      ]
     },
     "metadata": {
      "needs_background": "light"
     },
     "output_type": "display_data"
    }
   ],
   "source": [
    "plt.imshow(reg_attenuation_b0[:,250,:])"
   ]
  },
  {
   "cell_type": "code",
   "execution_count": 563,
   "metadata": {},
   "outputs": [],
   "source": [
    "reg_attenuation_final = reg_attenuation_final*512/101\n",
    "reversed_arr = np.swapaxes(np.swapaxes(reg_attenuation_final, 0, 0)[::-1], 0, 0)"
   ]
  },
  {
   "cell_type": "code",
   "execution_count": 588,
   "metadata": {},
   "outputs": [],
   "source": [
    "proj_attenuated = odl.MultiplyOperator(np.exp(-proj(reversed_arr/2)))*proj"
   ]
  },
  {
   "cell_type": "code",
   "execution_count": 575,
   "metadata": {},
   "outputs": [],
   "source": [
    "sinocorr = np.exp(proj(reversed_arr))*sino"
   ]
  },
  {
   "cell_type": "code",
   "execution_count": 589,
   "metadata": {},
   "outputs": [],
   "source": [
    "#%%time\n",
    "#nb_iters = 1\n",
    "#odl.solvers.iterative.statistical.mlem(proj_attenuated, recon, sino, niter=nb_iters)\n",
    "#iters += nb_iters\n",
    "mlem = odl.solvers.iterative.statistical.mlem\n",
    "#mlem = odl.solvers.mlem\n",
    "\n",
    "recon = proj.domain.one()\n",
    "mlem(proj_attenuated, recon, sino, niter=18)\n",
    "#mlem(proj, recon, sinocorr, niter=2)"
   ]
  },
  {
   "cell_type": "code",
   "execution_count": 586,
   "metadata": {},
   "outputs": [
    {
     "data": {
      "image/png": "[encoded data removed]",
      "text/plain": [
       "<Figure size 432x288 with 2 Axes>"
      ]
     },
     "metadata": {
      "needs_background": "light"
     },
     "output_type": "display_data"
    },
    {
     "data": {
      "text/plain": [
       "<Figure size 432x288 with 0 Axes>"
      ]
     },
     "metadata": {},
     "output_type": "display_data"
    },
    {
     "data": {
      "image/png": "[encoded data removed]",
      "text/plain": [
       "<Figure size 432x288 with 2 Axes>"
      ]
     },
     "execution_count": 586,
     "metadata": {},
     "output_type": "execute_result"
    }
   ],
   "source": [
    "recon[:,50,:].show(clim=[0,20000])"
   ]
  },
  {
   "cell_type": "code",
   "execution_count": 542,
   "metadata": {},
   "outputs": [
    {
     "data": {
      "text/plain": [
       "<matplotlib.image.AxesImage at 0x7ff905d3ae48>"
      ]
     },
     "execution_count": 542,
     "metadata": {},
     "output_type": "execute_result"
    },
    {
     "data": {
      "image/png": "[encoded data removed]",
      "text/plain": [
       "<Figure size 432x288 with 1 Axes>"
      ]
     },
     "metadata": {
      "needs_background": "light"
     },
     "output_type": "display_data"
    }
   ],
   "source": [
    "plt.imshow(reversed_arr[:,50,:])"
   ]
  },
  {
   "cell_type": "code",
   "execution_count": 587,
   "metadata": {},
   "outputs": [
    {
     "data": {
      "image/png": "[encoded data removed]",
      "text/plain": [
       "<Figure size 432x288 with 1 Axes>"
      ]
     },
     "metadata": {
      "needs_background": "light"
     },
     "output_type": "display_data"
    },
    {
     "data": {
      "text/plain": [
       "<Figure size 432x288 with 0 Axes>"
      ]
     },
     "metadata": {},
     "output_type": "display_data"
    },
    {
     "data": {
      "image/png": "[encoded data removed]",
      "text/plain": [
       "<Figure size 432x288 with 1 Axes>"
      ]
     },
     "execution_count": 587,
     "metadata": {},
     "output_type": "execute_result"
    }
   ],
   "source": [
    "recon.show(coords=(50,50,None))"
   ]
  },
  {
   "cell_type": "code",
   "execution_count": 458,
   "metadata": {},
   "outputs": [
    {
     "data": {
      "image/png": "[encoded data removed]",
      "text/plain": [
       "<Figure size 432x288 with 1 Axes>"
      ]
     },
     "metadata": {
      "needs_background": "light"
     },
     "output_type": "display_data"
    },
    {
     "data": {
      "text/plain": [
       "<Figure size 432x288 with 0 Axes>"
      ]
     },
     "metadata": {},
     "output_type": "display_data"
    }
   ],
   "source": [
    "recon.show(coords=(45,50,None));"
   ]
  },
  {
   "cell_type": "code",
   "execution_count": 306,
   "metadata": {},
   "outputs": [
    {
     "data": {
      "text/plain": [
       "(109, 101, 101)"
      ]
     },
     "execution_count": 306,
     "metadata": {},
     "output_type": "execute_result"
    }
   ],
   "source": [
    "reg_attenuation_final.shape"
   ]
  },
  {
   "cell_type": "code",
   "execution_count": 564,
   "metadata": {},
   "outputs": [],
   "source": [
    "\n",
    "reversed_arr = np.swapaxes(np.swapaxes(reg_attenuation_final, 0, 0)[::-1], 0, 0)\n",
    "#for z in range(101):\n",
    "#    reg_attenuation_final_r[:,z-1,:]=np.rot90(reg_attenuation_final[:,z-1,:], k=-1,axes=(0,1))\n",
    "#reg_attenuation_final_rs = reg_attenuation_final_r.T\n",
    "#reg_attenuation_final_rs = np.swapaxes(reg_attenuation_final_r,2,0)    "
   ]
  },
  {
   "cell_type": "code",
   "execution_count": 423,
   "metadata": {},
   "outputs": [
    {
     "data": {
      "text/plain": [
       "<matplotlib.image.AxesImage at 0x7ff908622a90>"
      ]
     },
     "execution_count": 423,
     "metadata": {},
     "output_type": "execute_result"
    },
    {
     "data": {
      "image/png": "[encoded data removed]",
      "text/plain": [
       "<Figure size 432x288 with 1 Axes>"
      ]
     },
     "metadata": {
      "needs_background": "light"
     },
     "output_type": "display_data"
    }
   ],
   "source": [
    "plt.imshow(reversed_arr[:,50,:])"
   ]
  },
  {
   "cell_type": "code",
   "execution_count": 403,
   "metadata": {},
   "outputs": [
    {
     "data": {
      "text/plain": [
       "(109, 101, 101)"
      ]
     },
     "execution_count": 403,
     "metadata": {},
     "output_type": "execute_result"
    }
   ],
   "source": [
    "reversed_arr.shape"
   ]
  },
  {
   "cell_type": "code",
   "execution_count": 235,
   "metadata": {},
   "outputs": [
    {
     "name": "stderr",
     "output_type": "stream",
     "text": [
      "/opt/tljh/user/lib/python3.6/site-packages/skimage/transform/_warps.py:110: UserWarning: Anti-aliasing will be enabled by default in skimage 0.15 to avoid aliasing artifacts when down-sampling images.\n",
      "  warn(\"Anti-aliasing will be enabled by default in skimage 0.15 to \"\n"
     ]
    }
   ],
   "source": [
    "slice_or = reg_attenuation_b0[50,:,:]\n",
    "slice_down = resize(slice_or,(new_size_i, new_size_j), anti_aliasing=True)\n",
    "reg_attenuation_down = np.zeros(down_size)\n",
    "reg_attenuation_down[50,:,:]=slice_down*512/200"
   ]
  },
  {
   "cell_type": "code",
   "execution_count": 225,
   "metadata": {},
   "outputs": [
    {
     "data": {
      "text/plain": [
       "<matplotlib.image.AxesImage at 0x7ff90725def0>"
      ]
     },
     "execution_count": 225,
     "metadata": {},
     "output_type": "execute_result"
    },
    {
     "data": {
      "image/png": "[encoded data removed]",
      "text/plain": [
       "<Figure size 432x288 with 1 Axes>"
      ]
     },
     "metadata": {
      "needs_background": "light"
     },
     "output_type": "display_data"
    }
   ],
   "source": [
    "plt.imshow(slice_down)"
   ]
  },
  {
   "cell_type": "code",
   "execution_count": 226,
   "metadata": {},
   "outputs": [
    {
     "data": {
      "text/plain": [
       "(200, 200)"
      ]
     },
     "execution_count": 226,
     "metadata": {},
     "output_type": "execute_result"
    }
   ],
   "source": [
    "slice_down.shape"
   ]
  },
  {
   "cell_type": "code",
   "execution_count": null,
   "metadata": {},
   "outputs": [],
   "source": [
    "reg_attenuation_down[50,:,:]=slice_down*512/200"
   ]
  },
  {
   "cell_type": "code",
   "execution_count": 237,
   "metadata": {},
   "outputs": [
    {
     "data": {
      "text/plain": [
       "(133, 200, 200)"
      ]
     },
     "execution_count": 237,
     "metadata": {},
     "output_type": "execute_result"
    }
   ],
   "source": [
    "reg_attenuation_down.shape"
   ]
  },
  {
   "cell_type": "code",
   "execution_count": null,
   "metadata": {},
   "outputs": [],
   "source": []
  }
 ],
 "metadata": {
  "kernelspec": {
   "display_name": "Python 3",
   "language": "python",
   "name": "python3"
  },
  "language_info": {
   "codemirror_mode": {
    "name": "ipython",
    "version": 3
   },
   "file_extension": ".py",
   "mimetype": "text/x-python",
   "name": "python",
   "nbconvert_exporter": "python",
   "pygments_lexer": "ipython3",
   "version": "3.6.7"
  }
 },
 "nbformat": 4,
 "nbformat_minor": 2
}
